{
  "cells": [
    {
      "cell_type": "code",
      "execution_count": null,
      "metadata": {
        "id": "Z_8vPt8cOlKi"
      },
      "outputs": [],
      "source": [
        "import os\n",
        "import urllib.request\n",
        "import pandas as pd\n",
        "import json\n",
        "from zipfile import ZipFile\n"
      ]
    },
    {
      "cell_type": "markdown",
      "metadata": {
        "id": "Wxs0LkgNesoK"
      },
      "source": [
        "#Download dataset"
      ]
    },
    {
      "cell_type": "code",
      "execution_count": null,
      "metadata": {
        "colab": {
          "base_uri": "https://localhost:8080/"
        },
        "id": "A4LpZqWENRWp",
        "outputId": "ebda90c3-a460-4058-abeb-6be254e4e6e7"
      },
      "outputs": [
        {
          "output_type": "stream",
          "name": "stdout",
          "text": [
            "Current work directory: /content/dataset\n"
          ]
        }
      ],
      "source": [
        "#https://github.com/DARGMINTS/op-articles-arg-pt\n",
        "dataset_url='https://raw.githubusercontent.com/DARGMINTS/op-articles-arg-pt/main/op_articles_arg_pt_corpus.json'\n",
        "dataset_folder = os.path.join(os.getcwd(), 'dataset')\n",
        "print(\"Current work directory: \" + str(dataset_folder))\n",
        "\n",
        "if not os.path.exists(dataset_folder):\n",
        "    os.makedirs(dataset_folder)\n",
        "\n",
        "dataset_path = os.path.join(dataset_folder, 'op_articles_arg_pt_corpus.json')\n",
        "if not os.path.exists(dataset_path):\n",
        "    urllib.request.urlretrieve(dataset_url, dataset_path)"
      ]
    },
    {
      "cell_type": "code",
      "execution_count": null,
      "metadata": {
        "colab": {
          "base_uri": "https://localhost:8080/"
        },
        "id": "nSdUi9XwQ7px",
        "outputId": "b683ffe3-3b1a-46ff-b371-fe90e06a255e"
      },
      "outputs": [
        {
          "output_type": "stream",
          "name": "stdout",
          "text": [
            "[{'nodes': [{'id': 0, 'x': 66, 'y': 143, 'width': 202, 'height': 64, 'type': 'I', 'color': 'blue', 'scheme': 0, 'visible': True, 'ranges': [[2516, 2556]], 'label': 'Valor'}, {'id': 1, 'x': 100, 'y': 384, 'width': 191, 'height': 184, 'type': 'I', 'color': 'blue', 'scheme': 0, 'visible': True, 'ranges': [[2568, 2806]], 'label': 'Valor'}, {'id': 2, 'x': 151, 'y': 324, 'width': 56, 'height': 40, 'type': 'RA', 'color': 'green', 'scheme': 72, 'visible': True, 'ranges': [], 'label': 'nullADU'}, {'id': 3, 'x': 539, 'y': 96, 'width': 122, 'height': 64, 'type': 'I', 'color': 'blue', 'scheme': 0, 'visible': True, 'ranges': [[3169, 3190]], 'label': 'Valor'}, {'id': 4, 'x': 523, 'y': 295, 'width': 193, 'height': 104, 'type': 'I', 'color': 'blue', 'scheme': 0, 'visible': True, 'ranges': [[3198, 3285]], 'label': 'Valor'}, {'id': 5, 'x': 565, 'y': 219, 'width': 56, 'height': 40, 'type': 'RA', 'color': 'green', 'scheme': 72, 'visible': True, 'ranges': [], 'label': 'nullADU'}, {'id': 6, 'x': 622, 'y': 507, 'width': 201, 'height': 64, 'type': 'I', 'color': 'blue', 'scheme': 0, 'visible': True, 'ranges': [[4257, 4296]], 'label': 'Valor'}, {'id': 7, 'x': 482, 'y': 695, 'width': 198, 'height': 104, 'type': 'I', 'color': 'blue', 'scheme': 0, 'visible': True, 'ranges': [[4305, 4404]], 'label': 'Valor'}, {'id': 8, 'x': 623, 'y': 589, 'width': 56, 'height': 40, 'type': 'RA', 'color': 'green', 'scheme': 72, 'visible': True, 'ranges': [], 'label': 'nullADU'}, {'id': 9, 'x': 318, 'y': 891, 'width': 197, 'height': 84, 'type': 'I', 'color': 'blue', 'scheme': 0, 'visible': True, 'ranges': [[3641, 3711]], 'label': 'Facto'}, {'id': 10, 'x': 190, 'y': 1052, 'width': 151, 'height': 64, 'type': 'I', 'color': 'blue', 'scheme': 0, 'visible': True, 'ranges': [[3730, 3760]], 'label': 'Valor'}, {'id': 11, 'x': 596, 'y': 1027, 'width': 199, 'height': 124, 'type': 'I', 'color': 'blue', 'scheme': 0, 'visible': True, 'ranges': [[3778, 3922]], 'label': 'Valor'}, {'id': 12, 'x': 325, 'y': 994, 'width': 52, 'height': 40, 'type': 'CA', 'color': 'red', 'scheme': 71, 'visible': True, 'ranges': [], 'label': 'nullADU'}, {'id': 13, 'x': 528, 'y': 981, 'width': 52, 'height': 40, 'type': 'CA', 'color': 'red', 'scheme': 71, 'visible': True, 'ranges': [], 'label': 'nullADU'}], 'edges': [{'from': {'id': 1}, 'to': {'id': 2}, 'visible': True}, {'from': {'id': 2}, 'to': {'id': 0}, 'visible': True}, {'from': {'id': 4}, 'to': {'id': 5}, 'visible': True}, {'from': {'id': 5}, 'to': {'id': 3}, 'visible': True}, {'from': {'id': 7}, 'to': {'id': 8}, 'visible': True}, {'from': {'id': 8}, 'to': {'id': 6}, 'visible': True}, {'from': {'id': 9}, 'to': {'id': 12}, 'visible': True}, {'from': {'id': 12}, 'to': {'id': 10}, 'visible': True}, {'from': {'id': 9}, 'to': {'id': 13}, 'visible': True}, {'from': {'id': 13}, 'to': {'id': 11}, 'visible': True}], 'metadata': {'annotatorId': 'A', 'ranges': [[[2516, 2556]], [[2568, 2806]], 'null', [[3169, 3190]], [[3198, 3285]], 'null', [[4257, 4296]], [[4305, 4404]], 'null', [[3641, 3711]], [[3730, 3760]], [[3778, 3922]], 'null', 'null']}}, {'nodes': [{'id': 0, 'x': 117, 'y': 44, 'width': 199, 'height': 84, 'type': 'I', 'color': 'blue', 'scheme': 0, 'visible': True, 'ranges': [[1321, 1387]], 'label': 'Valor(-)'}, {'id': 1, 'x': 119, 'y': 215, 'width': 199, 'height': 144, 'type': 'I', 'color': 'blue', 'scheme': 0, 'visible': True, 'ranges': [[1153, 1316]], 'label': 'Valor(-)'}, {'id': 2, 'x': 182, 'y': 145, 'width': 56, 'height': 40, 'type': 'RA', 'color': 'green', 'scheme': 72, 'visible': True, 'ranges': [], 'label': 'nullADU'}, {'id': 3, 'x': 561, 'y': 36, 'width': 199, 'height': 124, 'type': 'I', 'color': 'blue', 'scheme': 0, 'visible': True, 'ranges': [[1973, 2031], [2285, 2353]], 'label': 'Valor(-)'}, {'id': 4, 'x': 393, 'y': 192, 'width': 108, 'height': 64, 'type': 'I', 'color': 'blue', 'scheme': 0, 'visible': True, 'ranges': [[2033, 2053]], 'label': 'Valor(-)'}, {'id': 5, 'x': 454, 'y': 281, 'width': 176, 'height': 64, 'type': 'I', 'color': 'blue', 'scheme': 0, 'visible': True, 'ranges': [[2055, 2090]], 'label': 'Valor(-)'}, {'id': 6, 'x': 595, 'y': 362, 'width': 145, 'height': 64, 'type': 'I', 'color': 'blue', 'scheme': 0, 'visible': True, 'ranges': [[2092, 2119]], 'label': 'Valor(-)'}, {'id': 7, 'x': 720, 'y': 262, 'width': 206, 'height': 104, 'type': 'I', 'color': 'blue', 'scheme': 0, 'visible': True, 'ranges': [[2121, 2218]], 'label': 'Valor(-)'}, {'id': 8, 'x': 835, 'y': 167, 'width': 189, 'height': 84, 'type': 'I', 'color': 'blue', 'scheme': 0, 'visible': True, 'ranges': [[2220, 2283]], 'label': 'Valor(-)'}, {'id': 9, 'x': 508, 'y': 159, 'width': 56, 'height': 40, 'type': 'RA', 'color': 'green', 'scheme': 72, 'visible': True, 'ranges': [], 'label': 'nullADU'}, {'id': 10, 'x': 568, 'y': 171, 'width': 56, 'height': 40, 'type': 'RA', 'color': 'green', 'scheme': 72, 'visible': True, 'ranges': [], 'label': 'nullADU'}, {'id': 11, 'x': 623, 'y': 211, 'width': 56, 'height': 40, 'type': 'RA', 'color': 'green', 'scheme': 72, 'visible': True, 'ranges': [], 'label': 'nullADU'}, {'id': 12, 'x': 716, 'y': 181, 'width': 56, 'height': 40, 'type': 'RA', 'color': 'green', 'scheme': 72, 'visible': True, 'ranges': [], 'label': 'nullADU'}, {'id': 13, 'x': 765, 'y': 124, 'width': 56, 'height': 40, 'type': 'RA', 'color': 'green', 'scheme': 72, 'visible': True, 'ranges': [], 'label': 'nullADU'}, {'id': 14, 'x': 178, 'y': 456, 'width': 202, 'height': 64, 'type': 'I', 'color': 'blue', 'scheme': 0, 'visible': True, 'ranges': [[2516, 2556]], 'label': 'Valor'}, {'id': 15, 'x': 175, 'y': 602, 'width': 191, 'height': 184, 'type': 'I', 'color': 'blue', 'scheme': 0, 'visible': True, 'ranges': [[2568, 2806]], 'label': 'Valor'}, {'id': 16, 'x': 242, 'y': 542, 'width': 56, 'height': 40, 'type': 'RA', 'color': 'green', 'scheme': 72, 'visible': True, 'ranges': [], 'label': 'nullADU'}, {'id': 17, 'x': 545, 'y': 505, 'width': 183, 'height': 84, 'type': 'I', 'color': 'blue', 'scheme': 0, 'visible': True, 'ranges': [[2808, 2866]], 'label': 'Valor'}, {'id': 18, 'x': 378, 'y': 623, 'width': 191, 'height': 84, 'type': 'I', 'color': 'blue', 'scheme': 0, 'visible': True, 'ranges': [[2949, 2993]], 'label': 'Valor(-)'}, {'id': 19, 'x': 524, 'y': 743, 'width': 216, 'height': 64, 'type': 'I', 'color': 'blue', 'scheme': 0, 'visible': True, 'ranges': [[2995, 3036]], 'label': 'Valor(-)'}, {'id': 20, 'x': 740, 'y': 816, 'width': 186, 'height': 84, 'type': 'I', 'color': 'blue', 'scheme': 0, 'visible': True, 'ranges': [[3038, 3089]], 'label': 'Valor(-)'}, {'id': 21, 'x': 895, 'y': 693, 'width': 162, 'height': 64, 'type': 'I', 'color': 'blue', 'scheme': 0, 'visible': True, 'ranges': [[3091, 3122]], 'label': 'Valor(-)'}, {'id': 22, 'x': 894, 'y': 581, 'width': 224, 'height': 64, 'type': 'I', 'color': 'blue', 'scheme': 0, 'visible': True, 'ranges': [[3124, 3167]], 'label': 'Valor(-)'}, {'id': 23, 'x': 529, 'y': 586, 'width': 56, 'height': 40, 'type': 'RA', 'color': 'green', 'scheme': 72, 'visible': True, 'ranges': [], 'label': 'nullADU'}, {'id': 24, 'x': 615, 'y': 636, 'width': 56, 'height': 40, 'type': 'RA', 'color': 'green', 'scheme': 72, 'visible': True, 'ranges': [], 'label': 'nullADU'}, {'id': 25, 'x': 708, 'y': 683, 'width': 56, 'height': 40, 'type': 'RA', 'color': 'green', 'scheme': 72, 'visible': True, 'ranges': [], 'label': 'nullADU'}, {'id': 26, 'x': 773, 'y': 611, 'width': 56, 'height': 40, 'type': 'RA', 'color': 'green', 'scheme': 72, 'visible': True, 'ranges': [], 'label': 'nullADU'}, {'id': 27, 'x': 804, 'y': 555, 'width': 56, 'height': 40, 'type': 'RA', 'color': 'green', 'scheme': 72, 'visible': True, 'ranges': [], 'label': 'nullADU'}, {'id': 28, 'x': 298, 'y': 842, 'width': 122, 'height': 64, 'type': 'I', 'color': 'blue', 'scheme': 0, 'visible': True, 'ranges': [[3169, 3190]], 'label': 'Valor(+)'}, {'id': 29, 'x': 413, 'y': 1103, 'width': 185, 'height': 84, 'type': 'I', 'color': 'blue', 'scheme': 0, 'visible': True, 'ranges': [[3335, 3397]], 'label': 'Valor'}, {'id': 30, 'x': 96, 'y': 1048, 'width': 193, 'height': 104, 'type': 'I', 'color': 'blue', 'scheme': 0, 'visible': True, 'ranges': [[3198, 3285]], 'label': 'Valor(-)'}, {'id': 31, 'x': 412, 'y': 969, 'width': 117, 'height': 64, 'type': 'I', 'color': 'blue', 'scheme': 0, 'visible': True, 'ranges': [[3415, 3435]], 'label': 'Valor'}, {'id': 32, 'x': 248, 'y': 977, 'width': 56, 'height': 40, 'type': 'RA', 'color': 'green', 'scheme': 72, 'visible': True, 'ranges': [], 'label': 'nullADU'}, {'id': 33, 'x': 386, 'y': 918, 'width': 56, 'height': 40, 'type': 'RA', 'color': 'green', 'scheme': 72, 'visible': True, 'ranges': [], 'label': 'nullADU'}, {'id': 34, 'x': 477, 'y': 1058, 'width': 56, 'height': 40, 'type': 'RA', 'color': 'green', 'scheme': 72, 'visible': True, 'ranges': [], 'label': 'nullADU'}, {'id': 35, 'x': 78, 'y': 1381, 'width': 197, 'height': 84, 'type': 'I', 'color': 'blue', 'scheme': 0, 'visible': True, 'ranges': [[3641, 3711]], 'label': 'Facto'}, {'id': 36, 'x': 445, 'y': 1254, 'width': 151, 'height': 64, 'type': 'I', 'color': 'blue', 'scheme': 0, 'visible': True, 'ranges': [[3730, 3760]], 'label': 'Valor'}, {'id': 37, 'x': 432, 'y': 1385, 'width': 179, 'height': 144, 'type': 'I', 'color': 'blue', 'scheme': 0, 'visible': True, 'ranges': [[3764, 3922]], 'label': 'Valor'}, {'id': 38, 'x': 447, 'y': 1618, 'width': 174, 'height': 104, 'type': 'I', 'color': 'blue', 'scheme': 0, 'visible': True, 'ranges': [[3925, 4011]], 'label': 'Valor'}, {'id': 39, 'x': 334, 'y': 1340, 'width': 52, 'height': 40, 'type': 'CA', 'color': 'red', 'scheme': 71, 'visible': True, 'ranges': [], 'label': 'nullADU'}, {'id': 40, 'x': 328, 'y': 1405, 'width': 52, 'height': 40, 'type': 'CA', 'color': 'red', 'scheme': 71, 'visible': True, 'ranges': [], 'label': 'nullADU'}, {'id': 41, 'x': 335, 'y': 1522, 'width': 52, 'height': 40, 'type': 'CA', 'color': 'red', 'scheme': 71, 'visible': True, 'ranges': [], 'label': 'nullADU'}, {'id': 42, 'x': 35, 'y': 1922, 'width': 189, 'height': 124, 'type': 'I', 'color': 'blue', 'scheme': 0, 'visible': True, 'ranges': [[4076, 4193]], 'label': 'Valor'}, {'id': 43, 'x': 52, 'y': 1743, 'width': 164, 'height': 84, 'type': 'I', 'color': 'blue', 'scheme': 0, 'visible': True, 'ranges': [[4020, 4073]], 'label': 'Valor(+)'}, {'id': 44, 'x': 116, 'y': 1865, 'width': 56, 'height': 40, 'type': 'RA', 'color': 'green', 'scheme': 72, 'visible': True, 'ranges': [], 'label': 'nullADU'}], 'edges': [{'from': {'id': 1}, 'to': {'id': 2}, 'visible': True}, {'from': {'id': 2}, 'to': {'id': 0}, 'visible': True}, {'from': {'id': 4}, 'to': {'id': 9}, 'visible': True}, {'from': {'id': 9}, 'to': {'id': 3}, 'visible': True}, {'from': {'id': 5}, 'to': {'id': 10}, 'visible': True}, {'from': {'id': 10}, 'to': {'id': 3}, 'visible': True}, {'from': {'id': 6}, 'to': {'id': 11}, 'visible': True}, {'from': {'id': 11}, 'to': {'id': 3}, 'visible': True}, {'from': {'id': 7}, 'to': {'id': 12}, 'visible': True}, {'from': {'id': 12}, 'to': {'id': 3}, 'visible': True}, {'from': {'id': 8}, 'to': {'id': 13}, 'visible': True}, {'from': {'id': 13}, 'to': {'id': 3}, 'visible': True}, {'from': {'id': 15}, 'to': {'id': 16}, 'visible': True}, {'from': {'id': 16}, 'to': {'id': 14}, 'visible': True}, {'from': {'id': 18}, 'to': {'id': 23}, 'visible': True}, {'from': {'id': 23}, 'to': {'id': 17}, 'visible': True}, {'from': {'id': 19}, 'to': {'id': 24}, 'visible': True}, {'from': {'id': 24}, 'to': {'id': 17}, 'visible': True}, {'from': {'id': 20}, 'to': {'id': 25}, 'visible': True}, {'from': {'id': 25}, 'to': {'id': 17}, 'visible': True}, {'from': {'id': 21}, 'to': {'id': 26}, 'visible': True}, {'from': {'id': 26}, 'to': {'id': 17}, 'visible': True}, {'from': {'id': 22}, 'to': {'id': 27}, 'visible': True}, {'from': {'id': 27}, 'to': {'id': 17}, 'visible': True}, {'from': {'id': 30}, 'to': {'id': 32}, 'visible': True}, {'from': {'id': 32}, 'to': {'id': 28}, 'visible': True}, {'from': {'id': 31}, 'to': {'id': 33}, 'visible': True}, {'from': {'id': 33}, 'to': {'id': 28}, 'visible': True}, {'from': {'id': 29}, 'to': {'id': 34}, 'visible': True}, {'from': {'id': 34}, 'to': {'id': 31}, 'visible': True}, {'from': {'id': 35}, 'to': {'id': 39}, 'visible': True}, {'from': {'id': 39}, 'to': {'id': 36}, 'visible': True}, {'from': {'id': 35}, 'to': {'id': 40}, 'visible': True}, {'from': {'id': 40}, 'to': {'id': 37}, 'visible': True}, {'from': {'id': 35}, 'to': {'id': 41}, 'visible': True}, {'from': {'id': 41}, 'to': {'id': 38}, 'visible': True}, {'from': {'id': 42}, 'to': {'id': 44}, 'visible': True}, {'from': {'id': 44}, 'to': {'id': 43}, 'visible': True}], 'metadata': {'annotatorId': 'B', 'ranges': [[[1321, 1387]], [[1153, 1316]], 'null', [[1973, 2031], [2285, 2353]], [[2033, 2053]], [[2055, 2090]], [[2092, 2119]], [[2121, 2218]], [[2220, 2283]], 'null', 'null', 'null', 'null', 'null', [[2516, 2556]], [[2568, 2806]], 'null', [[2808, 2866]], [[2949, 2993]], [[2995, 3036]], [[3038, 3089]], [[3091, 3122]], [[3124, 3167]], 'null', 'null', 'null', 'null', 'null', [[3169, 3190]], [[3335, 3397]], [[3198, 3285]], [[3415, 3435]], 'null', 'null', 'null', [[3641, 3711]], [[3730, 3760]], [[3764, 3922]], [[3925, 4011]], 'null', 'null', 'null', [[4076, 4193]], [[4020, 4073]], 'null']}}, {'nodes': [{'id': 0, 'x': 96, 'y': 24, 'width': 202, 'height': 64, 'type': 'I', 'color': 'blue', 'scheme': 0, 'visible': True, 'ranges': [[2516, 2556]], 'label': 'Valor'}, {'id': 1, 'x': 105, 'y': 186, 'width': 191, 'height': 184, 'type': 'I', 'color': 'blue', 'scheme': 0, 'visible': True, 'ranges': [[2568, 2806]], 'label': 'Facto'}, {'id': 2, 'x': 173, 'y': 118, 'width': 56, 'height': 40, 'type': 'RA', 'color': 'green', 'scheme': 72, 'visible': True, 'ranges': [], 'label': 'nullADU'}, {'id': 3, 'x': 431, 'y': 28, 'width': 122, 'height': 64, 'type': 'I', 'color': 'blue', 'scheme': 0, 'visible': True, 'ranges': [[3169, 3190]], 'label': 'Valor(-)'}, {'id': 4, 'x': 400, 'y': 199, 'width': 193, 'height': 104, 'type': 'I', 'color': 'blue', 'scheme': 0, 'visible': True, 'ranges': [[3198, 3285]], 'label': 'Valor(-)'}, {'id': 5, 'x': 465, 'y': 130, 'width': 56, 'height': 40, 'type': 'RA', 'color': 'green', 'scheme': 72, 'visible': True, 'ranges': [], 'label': 'nullADU'}, {'id': 6, 'x': 789, 'y': 30, 'width': 122, 'height': 64, 'type': 'I', 'color': 'blue', 'scheme': 0, 'visible': True, 'ranges': [[3306, 3327]], 'label': 'Valor(-)'}, {'id': 7, 'x': 669, 'y': 186, 'width': 185, 'height': 84, 'type': 'I', 'color': 'blue', 'scheme': 0, 'visible': True, 'ranges': [[3335, 3397]], 'label': 'Valor'}, {'id': 8, 'x': 873, 'y': 187, 'width': 191, 'height': 64, 'type': 'I', 'color': 'blue', 'scheme': 0, 'visible': True, 'ranges': [[3401, 3435]], 'label': 'Valor(-)'}, {'id': 9, 'x': 828, 'y': 124, 'width': 56, 'height': 40, 'type': 'RA', 'color': 'green', 'scheme': 72, 'visible': True, 'ranges': [], 'label': 'nullADU'}, {'id': 10, 'x': 1192, 'y': 30, 'width': 172, 'height': 64, 'type': 'I', 'color': 'blue', 'scheme': 0, 'visible': True, 'ranges': [[3438, 3473]], 'label': 'Valor'}, {'id': 11, 'x': 1181, 'y': 190, 'width': 199, 'height': 124, 'type': 'I', 'color': 'blue', 'scheme': 0, 'visible': True, 'ranges': [[3479, 3623]], 'label': 'Facto'}, {'id': 12, 'x': 1254, 'y': 124, 'width': 52, 'height': 40, 'type': 'CA', 'color': 'red', 'scheme': 71, 'visible': True, 'ranges': [], 'label': 'nullADU'}, {'id': 13, 'x': 1746, 'y': 28, 'width': 179, 'height': 104, 'type': 'I', 'color': 'blue', 'scheme': 0, 'visible': True, 'ranges': [[3625, 3711]], 'label': 'Valor'}, {'id': 14, 'x': 1482, 'y': 249, 'width': 233, 'height': 64, 'type': 'I', 'color': 'blue', 'scheme': 0, 'visible': True, 'ranges': [[3713, 3760]], 'label': 'Facto'}, {'id': 15, 'x': 1757, 'y': 248, 'width': 179, 'height': 144, 'type': 'I', 'color': 'blue', 'scheme': 0, 'visible': True, 'ranges': [[3764, 3922]], 'label': 'Facto'}, {'id': 16, 'x': 1964, 'y': 251, 'width': 174, 'height': 104, 'type': 'I', 'color': 'blue', 'scheme': 0, 'visible': True, 'ranges': [[3925, 4011]], 'label': 'Facto'}, {'id': 17, 'x': 1569, 'y': 187, 'width': 52, 'height': 40, 'type': 'CA', 'color': 'red', 'scheme': 71, 'visible': True, 'ranges': [], 'label': 'nullADU'}, {'id': 18, 'x': 1925, 'y': 172, 'width': 52, 'height': 40, 'type': 'CA', 'color': 'red', 'scheme': 71, 'visible': True, 'ranges': [], 'label': 'nullADU'}, {'id': 19, 'x': 2269, 'y': 43, 'width': 225, 'height': 104, 'type': 'I', 'color': 'blue', 'scheme': 0, 'visible': True, 'ranges': [[4014, 4134]], 'label': 'Valor'}, {'id': 20, 'x': 2297, 'y': 257, 'width': 181, 'height': 84, 'type': 'I', 'color': 'blue', 'scheme': 0, 'visible': True, 'ranges': [[4146, 4193]], 'label': 'Facto'}, {'id': 21, 'x': 2358, 'y': 178, 'width': 52, 'height': 40, 'type': 'CA', 'color': 'red', 'scheme': 71, 'visible': True, 'ranges': [], 'label': 'nullADU'}], 'edges': [{'from': {'id': 1}, 'to': {'id': 2}, 'visible': True}, {'from': {'id': 2}, 'to': {'id': 0}, 'visible': True}, {'from': {'id': 4}, 'to': {'id': 5}, 'visible': True}, {'from': {'id': 5}, 'to': {'id': 3}, 'visible': True}, {'from': {'id': 7}, 'to': {'id': 9}, 'visible': True}, {'from': {'id': 9}, 'to': {'id': 6}, 'visible': True}, {'from': {'id': 8}, 'to': {'id': 9}, 'visible': True}, {'from': {'id': 11}, 'to': {'id': 12}, 'visible': True}, {'from': {'id': 12}, 'to': {'id': 10}, 'visible': True}, {'from': {'id': 14}, 'to': {'id': 17}, 'visible': True}, {'from': {'id': 17}, 'to': {'id': 13}, 'visible': True}, {'from': {'id': 15}, 'to': {'id': 18}, 'visible': True}, {'from': {'id': 18}, 'to': {'id': 13}, 'visible': True}, {'from': {'id': 16}, 'to': {'id': 18}, 'visible': True}, {'from': {'id': 20}, 'to': {'id': 21}, 'visible': True}, {'from': {'id': 21}, 'to': {'id': 19}, 'visible': True}], 'metadata': {'annotatorId': 'D', 'ranges': [[[2516, 2556]], [[2568, 2806]], 'null', [[3169, 3190]], [[3198, 3285]], 'null', [[3306, 3327]], [[3335, 3397]], [[3401, 3435]], 'null', [[3438, 3473]], [[3479, 3623]], 'null', [[3625, 3711]], [[3713, 3760]], [[3764, 3922]], [[3925, 4011]], 'null', 'null', [[4014, 4134]], [[4146, 4193]], 'null']}}]\n"
          ]
        }
      ],
      "source": [
        "df = pd.read_json(dataset_path)\n",
        "print(df['argument_annotations'][0])\n",
        "for i in df['argument_annotations'][0]:\n",
        "  json_str = json.dumps(i, indent=4)\n",
        "  #print(json_str)"
      ]
    },
    {
      "cell_type": "code",
      "execution_count": null,
      "metadata": {
        "colab": {
          "base_uri": "https://localhost:8080/"
        },
        "id": "INWGjxoAY19j",
        "outputId": "9ac76da2-4dae-47d0-99f0-72752ec28802"
      },
      "outputs": [
        {
          "output_type": "stream",
          "name": "stdout",
          "text": [
            "                                      _id  \\\n",
            "0    {'$oid': '5d04a31b896a7fea069ef06f'}   \n",
            "1    {'$oid': '5d04a3fc896a7fea069f0717'}   \n",
            "2    {'$oid': '5d04a455896a7fea069f07ab'}   \n",
            "3    {'$oid': '5d04a52f896a7fea069f0921'}   \n",
            "4    {'$oid': '5d04a8d7896a7fea069f6997'}   \n",
            "..                                    ...   \n",
            "368  {'$oid': '5cee2df3896a7fea06c54a35'}   \n",
            "369  {'$oid': '5ceee4c4896a7fea06cc3895'}   \n",
            "370  {'$oid': '5cef7f74896a7fea06d223f7'}   \n",
            "371  {'$oid': '5cefd3d4896a7fea06d57241'}   \n",
            "372  {'$oid': '5cf4b764896a7fea06032673'}   \n",
            "\n",
            "                                    authors  \\\n",
            "0                    [José Vítor Malheiros]   \n",
            "1                         [Rui J. Baptista]   \n",
            "2                           [Fernando Belo]   \n",
            "3    [Hamad bin Khalifa bin Ahmad Al Thani]   \n",
            "4                          [Carlos Nolasco]   \n",
            "..                                      ...   \n",
            "368                            [Nuno Sousa]   \n",
            "369                 [Francisco Bethencourt]   \n",
            "370                          [Nuno Pacheco]   \n",
            "371                            [Bruno Maia]   \n",
            "372                  [Tiago Neves Sequeira]   \n",
            "\n",
            "                                         url_canonical         publish_date  \\\n",
            "0    https://www.publico.pt/2014/06/17/desporto/opi...  2014-06-17 00:16:00   \n",
            "1    https://www.publico.pt/2014/07/05/desporto/opi...  2014-07-05 02:46:00   \n",
            "2    https://www.publico.pt/2014/07/12/desporto/opi...  2014-07-12 16:05:33   \n",
            "3    https://www.publico.pt/2014/07/27/desporto/opi...  2014-07-27 02:00:00   \n",
            "4    https://www.publico.pt/2014/10/23/desporto/opi...  2014-10-23 00:16:00   \n",
            "..                                                 ...                  ...   \n",
            "368  https://www.publico.pt/2019/05/29/desporto/opi...  2019-05-29 07:32:00   \n",
            "369  https://www.publico.pt/2019/05/29/mundo/opinia...  2019-05-29 20:00:00   \n",
            "370  https://www.publico.pt/2019/05/30/culturaipsil...  2019-05-30 07:30:00   \n",
            "371  https://www.publico.pt/2019/05/30/sociedade/op...  2019-05-30 13:18:44   \n",
            "372  https://www.publico.pt/2019/06/03/sociedade/op...  2019-06-03 06:44:00   \n",
            "\n",
            "          topics                               argument_annotations  \n",
            "0     [desporto]  [{'nodes': [{'id': 0, 'x': 66, 'y': 143, 'widt...  \n",
            "1     [desporto]  [{'nodes': [{'id': 0, 'x': 163, 'y': 158, 'wid...  \n",
            "2     [desporto]  [{'nodes': [{'id': 0, 'x': 237, 'y': 44, 'widt...  \n",
            "3     [desporto]  [{'nodes': [{'id': 0, 'x': 55, 'y': 92, 'width...  \n",
            "4     [desporto]  [{'nodes': [{'id': 0, 'x': 282.1485148514851, ...  \n",
            "..           ...                                                ...  \n",
            "368   [desporto]  [{'nodes': [{'id': 0, 'x': 256, 'y': 17, 'widt...  \n",
            "369      [mundo]  [{'nodes': [{'id': 0, 'x': 329.3129980759355, ...  \n",
            "370    [cultura]  [{'nodes': [{'id': 0, 'x': 183, 'y': 241, 'wid...  \n",
            "371  [sociedade]  [{'nodes': [{'id': 0, 'x': 186, 'y': 136, 'wid...  \n",
            "372  [sociedade]  [{'nodes': [{'id': 0, 'x': 257, 'y': 51, 'widt...  \n",
            "\n",
            "[373 rows x 6 columns]\n"
          ]
        }
      ],
      "source": [
        "print(df)"
      ]
    },
    {
      "cell_type": "markdown",
      "metadata": {
        "id": "rLVZAPDpeyed"
      },
      "source": [
        "#Analyse dataset"
      ]
    },
    {
      "cell_type": "code",
      "execution_count": null,
      "metadata": {
        "colab": {
          "base_uri": "https://localhost:8080/"
        },
        "id": "eoZAR0OElDay",
        "outputId": "fd0b9449-6f57-4cec-d6a8-9d0ae7f51e4c"
      },
      "outputs": [
        {
          "output_type": "stream",
          "name": "stdout",
          "text": [
            "Documents: 373\n",
            "ADU: {'A': 5444, 'B': 8289, 'D': 6593, 'C': 6683}\n",
            "Links: {'A': 4273, 'B': 4949, 'D': 5377, 'C': 5474}\n"
          ]
        }
      ],
      "source": [
        "ADU = {}\n",
        "n_documents_1 = len(df['_id'])\n",
        "print(\"Documents:\",n_documents_1)\n",
        "\n",
        "for i in range(n_documents_1):\n",
        "  for j in range(len(df['argument_annotations'][i])):\n",
        "    c = len(df['argument_annotations'][i][j]['nodes'])\n",
        "    annId = df['argument_annotations'][i][j]['metadata']['annotatorId']\n",
        "    ADU[annId] = ADU.get(annId,0) + c\n",
        "print(\"ADU:\",ADU)\n",
        "\n",
        "links = {}\n",
        "for i in range(n_documents_1):\n",
        "  for j in range(len(df['argument_annotations'][i])):\n",
        "    c = len(df['argument_annotations'][i][0]['edges'])\n",
        "    annId = df['argument_annotations'][i][j]['metadata']['annotatorId']\n",
        "    links[annId] = links.get(annId,0) + c\n",
        "print(\"Links:\",links)"
      ]
    },
    {
      "cell_type": "code",
      "execution_count": null,
      "metadata": {
        "colab": {
          "base_uri": "https://localhost:8080/"
        },
        "id": "9AMCY9kApIGG",
        "outputId": "acdf01ef-76f5-4f13-f973-9c2308f68363"
      },
      "outputs": [
        {
          "output_type": "stream",
          "name": "stdout",
          "text": [
            "Label types: {'Facto', 'Valor(+)', 'nullADU', 'Diretiva', 'Valor', 'Valor(-)'}\n",
            "Labels: A {'Facto': 647, 'Valor(+)': 183, 'nullADU': 2109, 'Diretiva': 56, 'Valor': 2059, 'Valor(-)': 390}\n",
            "Labels: B {'Facto': 920, 'Valor(+)': 466, 'nullADU': 3063, 'Diretiva': 167, 'Valor': 2790, 'Valor(-)': 883}\n",
            "Labels: C {'Facto': 386, 'Valor(+)': 481, 'nullADU': 2572, 'Diretiva': 265, 'Valor': 2006, 'Valor(-)': 973}\n",
            "Labels: D {'Facto': 1710, 'Valor(+)': 281, 'nullADU': 2522, 'Diretiva': 179, 'Valor': 1247, 'Valor(-)': 654}\n"
          ]
        }
      ],
      "source": [
        "labels = set()\n",
        "data = df['argument_annotations']\n",
        "\n",
        "for i in range(len(data)):\n",
        "  for j in range(len(data[i])):\n",
        "    data_list = data[i]\n",
        "    labels.update(set(item['label'] for item in data_list[j]['nodes']))\n",
        "print(\"Label types:\", labels)\n",
        "label_counts = {key:0 for key in labels}\n",
        "\n",
        "num_labels = {key:label_counts.copy() for key in [\"A\",\"B\",\"C\",\"D\"]}\n",
        "\n",
        "for i in range(len(data)):\n",
        "    for j in range(len(data[i])):\n",
        "        annId = data[i][j]['metadata']['annotatorId']\n",
        "        data_list = data[i][j]['nodes']\n",
        "        for label in labels:\n",
        "            count = sum(1 for item in data_list if item['label'] == label)\n",
        "            num_labels[annId][label] = num_labels[annId].get(label,0) + count\n",
        "for i in num_labels:\n",
        "  print(\"Labels:\",i,num_labels[i])\n"
      ]
    },
    {
      "cell_type": "code",
      "execution_count": null,
      "metadata": {
        "colab": {
          "base_uri": "https://localhost:8080/"
        },
        "id": "RbAulipU0HQS",
        "outputId": "2b393f66-8742-4c02-8e76-2fa27aea89c6"
      },
      "outputs": [
        {
          "output_type": "stream",
          "name": "stdout",
          "text": [
            "27009\n"
          ]
        }
      ],
      "source": [
        "total_sum =0\n",
        "for inner_dict in num_labels.values():\n",
        "    for value in inner_dict.values():\n",
        "        total_sum += value\n",
        "print(total_sum)"
      ]
    },
    {
      "cell_type": "code",
      "execution_count": null,
      "metadata": {
        "colab": {
          "base_uri": "https://localhost:8080/"
        },
        "id": "AU7L1l5RthrA",
        "outputId": "9a4311ae-3444-4235-b3f9-c245d1fa82a7"
      },
      "outputs": [
        {
          "output_type": "stream",
          "name": "stdout",
          "text": [
            "\n",
            " ADU: \n",
            "\n",
            "Total Average: A 78.15 \n",
            "Total Max: A 514\n",
            "Total Average: B 90.86 \n",
            "Total Max: B 478\n",
            "Total Average: C 89.86 \n",
            "Total Max: C 546\n",
            "Total Average: D 91.72 \n",
            "Total Max: D 478\n",
            "\n",
            " Documents: \n",
            "\n",
            "Average: A 2357.39 \n",
            "Max: A 16428\n",
            "Average: B 2484.84 \n",
            "Max: B 18414\n",
            "Average: C 2993.38 \n",
            "Max: C 18156\n",
            "Average: D 2227.13 \n",
            "Max: D 12947\n"
          ]
        }
      ],
      "source": [
        "num_char = {key:[0,0,0,0,0] for key in [\"A\",\"B\",\"C\",\"D\"]}\n",
        "\n",
        "for i in range(len(data)):\n",
        "  for j in range(len(data[i])):\n",
        "    data_list = data[i][j]['nodes']\n",
        "    annId = data[i][j]['metadata']['annotatorId']\n",
        "    rmin = 9999\n",
        "    rmax = 0\n",
        "    for k  in range(len(data_list)):\n",
        "      try:\n",
        "        ranges = data_list[k]['ranges'][0]\n",
        "      except:\n",
        "        continue\n",
        "      for r in range(len(data_list[k]['ranges'])):\n",
        "        ranges = data_list[k]['ranges'][r]\n",
        "        rmin = min(rmin, ranges[0])\n",
        "        rmax = max(rmax, ranges[1])\n",
        "        l= ranges[1] - ranges[0]\n",
        "        num_char[annId][0] += l\n",
        "        num_char[annId][4] += 1\n",
        "        if num_char[annId][1] < l:\n",
        "          num_char[annId][1] = l\n",
        "        num_char[annId][2] += (rmax - rmin)\n",
        "        num_char[annId][3] = max(num_char[annId][3], rmax - rmin)\n",
        "print(\"\\n ADU: \\n\")\n",
        "for annId in [\"A\",\"B\",\"C\",\"D\"]:\n",
        "  print(\"Total Average:\",annId,round(num_char[annId][0]/ num_char[annId][4],2), \"\\nTotal Max:\",annId,num_char[annId][1])\n",
        "\n",
        "print(\"\\n Documents: \\n\")\n",
        "for annId in [\"A\",\"B\",\"C\",\"D\"]:\n",
        "  print(\"Average:\",annId,round(num_char[annId][2]/ num_char[annId][4],2), \"\\nMax:\",annId,num_char[annId][3])\n"
      ]
    },
    {
      "cell_type": "code",
      "execution_count": null,
      "metadata": {
        "colab": {
          "base_uri": "https://localhost:8080/"
        },
        "id": "HAbAImlofPxZ",
        "outputId": "08cd6245-90a2-4b58-f3ae-a59bfbc04039"
      },
      "outputs": [
        {
          "output_type": "stream",
          "name": "stdout",
          "text": [
            "Edge Counts:\n",
            "{'A': 4273, 'B': 6580, 'D': 5247, 'C': 5314}\n"
          ]
        }
      ],
      "source": [
        "# Dictionary to keep track of edge counts\n",
        "edge_counts = {}\n",
        "\n",
        "# Iterate over documents\n",
        "for i in range(len(data)):\n",
        "    annotations = data[i]\n",
        "    # Iterate over annotations\n",
        "    for annotation in annotations:\n",
        "        annotator_id = annotation[\"metadata\"][\"annotatorId\"]\n",
        "        edges = annotation[\"edges\"]\n",
        "\n",
        "        # Increment edge count for the corresponding annotator\n",
        "        if annotator_id not in edge_counts:\n",
        "            edge_counts[annotator_id] = 0\n",
        "        edge_counts[annotator_id] += len(edges)\n",
        "\n",
        "print(\"Edge Counts:\")\n",
        "print(edge_counts)"
      ]
    },
    {
      "cell_type": "code",
      "execution_count": null,
      "metadata": {
        "colab": {
          "base_uri": "https://localhost:8080/"
        },
        "id": "PJOenW3khnDx",
        "outputId": "7bacb95b-db5c-4183-ee64-f6596e0c321f"
      },
      "outputs": [
        {
          "output_type": "stream",
          "name": "stdout",
          "text": [
            "Label Counts by Annotator:\n",
            "Links: A {('Valor', 'nullADU'): 1258, ('nullADU', 'Valor'): 1412, ('Facto', 'nullADU'): 554, ('nullADU', 'Facto'): 195, ('Valor(-)', 'nullADU'): 242, ('Valor(+)', 'nullADU'): 103, ('nullADU', 'Valor(+)'): 155, ('nullADU', 'Valor(-)'): 281, ('nullADU', 'Diretiva'): 66, ('Diretiva', 'nullADU'): 7}\n",
            "Links: B {('Valor(-)', 'nullADU'): 568, ('nullADU', 'Valor(-)'): 619, ('Valor', 'nullADU'): 1830, ('nullADU', 'Valor'): 1660, ('nullADU', 'Valor(+)'): 331, ('Facto', 'nullADU'): 800, ('nullADU', 'Facto'): 285, ('Valor(+)', 'nullADU'): 279, ('nullADU', 'Diretiva'): 168, ('Diretiva', 'nullADU'): 40}\n",
            "Links: D {('Facto', 'nullADU'): 1732, ('nullADU', 'Valor'): 1165, ('Valor(-)', 'nullADU'): 366, ('nullADU', 'Valor(-)'): 559, ('Valor', 'nullADU'): 414, ('Valor(+)', 'nullADU'): 150, ('nullADU', 'Valor(+)'): 232, ('nullADU', 'Facto'): 401, ('nullADU', 'Diretiva'): 165, ('Diretiva', 'nullADU'): 63}\n",
            "Links: C {('Valor', 'nullADU'): 1388, ('nullADU', 'Valor'): 1154, ('Facto', 'nullADU'): 340, ('nullADU', 'Valor(+)'): 334, ('Valor(-)', 'nullADU'): 645, ('nullADU', 'Diretiva'): 287, ('Valor(+)', 'nullADU'): 309, ('nullADU', 'Valor(-)'): 693, ('Diretiva', 'nullADU'): 60, ('nullADU', 'Facto'): 104}\n"
          ]
        }
      ],
      "source": [
        "# Dictionary to keep track of label pairs for each annotator\n",
        "annotator_label_counts = {}\n",
        "\n",
        "# Iterate over documents\n",
        "for i in range(len(data)):\n",
        "    annotations = data[i]\n",
        "\n",
        "    # Iterate over annotations\n",
        "    for annotation in annotations:\n",
        "        annotator_id = annotation[\"metadata\"][\"annotatorId\"]\n",
        "        edges = annotation[\"edges\"]\n",
        "        nodes = annotation[\"nodes\"]\n",
        "\n",
        "        # Iterate over edges\n",
        "        for edge in edges:\n",
        "            from_id = edge[\"from\"][\"id\"]\n",
        "            to_id = edge[\"to\"][\"id\"]\n",
        "\n",
        "            # Find nodes in 'nodes' by id\n",
        "            from_node = next((node for node in nodes if node[\"id\"] == from_id), None)\n",
        "            to_node = next((node for node in nodes if node[\"id\"] == to_id), None)\n",
        "\n",
        "            if from_node and to_node:\n",
        "                from_label = from_node[\"label\"]\n",
        "                to_label = to_node[\"label\"]\n",
        "\n",
        "                # Increment the count for the label pair for the corresponding annotator\n",
        "                if annotator_id not in annotator_label_counts:\n",
        "                    annotator_label_counts[annotator_id] = {}\n",
        "\n",
        "                if (from_label, to_label) not in annotator_label_counts[annotator_id]:\n",
        "                    annotator_label_counts[annotator_id][(from_label, to_label)] = 0\n",
        "\n",
        "                annotator_label_counts[annotator_id][(from_label, to_label)] += 1\n",
        "\n",
        "print(\"Label Counts by Annotator:\")\n",
        "for i in annotator_label_counts:\n",
        "  print(\"Links:\",i,annotator_label_counts[i])"
      ]
    },
    {
      "cell_type": "markdown",
      "metadata": {
        "id": "wbzb1xCTeSxk"
      },
      "source": [
        "#Download article text"
      ]
    },
    {
      "cell_type": "code",
      "execution_count": null,
      "metadata": {
        "colab": {
          "base_uri": "https://localhost:8080/"
        },
        "id": "kySnvAJ5wA1r",
        "outputId": "40c8c50f-fb83-48af-d96a-2ab7de8f74f3"
      },
      "outputs": [
        {
          "output_type": "stream",
          "name": "stderr",
          "text": [
            "100%|██████████| 8/8 [01:03<00:00,  7.92s/it]\n"
          ]
        }
      ],
      "source": [
        "import requests\n",
        "from bs4 import BeautifulSoup\n",
        "import pandas as pd\n",
        "from concurrent.futures import ThreadPoolExecutor, as_completed\n",
        "import numpy as np\n",
        "from tqdm import tqdm\n",
        "\n",
        "# Function to extract article text from a webpage given its URL\n",
        "def extract_article_text(row):\n",
        "    url = row['url_canonical']\n",
        "    response = requests.get(url)\n",
        "    soup = BeautifulSoup(response.content, \"html.parser\")\n",
        "    article_element = soup.find(\"div\", class_=\"story__body\")\n",
        "    title_element = soup.find(\"h1\", class_=\"headline\")\n",
        "    subtitle_element = soup.find(\"div\", class_=\"story__blurb\")\n",
        "    article_text = article_element.get_text() if article_element else None\n",
        "    title_text = len(title_element.get_text()) if title_element else None\n",
        "    subtitle_text = len(subtitle_element.get_text()) if subtitle_element else None\n",
        "\n",
        "    row['article_text'] = article_text\n",
        "    row['title_text'] = title_text\n",
        "    row['subtitle_text'] = subtitle_text\n",
        "\n",
        "    return row\n",
        "\n",
        "# Number of threads to use\n",
        "num_threads = 8\n",
        "\n",
        "# Split the dataframe into smaller chunks for parallel processing\n",
        "chunks = np.array_split(df, num_threads)\n",
        "\n",
        "# Create a ThreadPoolExecutor\n",
        "executor = ThreadPoolExecutor(max_workers=num_threads)\n",
        "\n",
        "# List to store the futures\n",
        "futures = []\n",
        "\n",
        "# Submit the tasks to the executor\n",
        "for chunk in chunks:\n",
        "    future = executor.submit(chunk.apply, extract_article_text, axis=1)\n",
        "    futures.append(future)\n",
        "\n",
        "# Wait for all the tasks to complete and display a progress bar\n",
        "with tqdm(total=len(futures)) as pbar:\n",
        "    for future in as_completed(futures):\n",
        "        result = future.result()\n",
        "        pbar.update(1)\n",
        "\n",
        "# Concatenate the results back into a single DataFrame\n",
        "df = pd.concat([future.result() for future in futures])\n",
        "\n",
        "# Now the DataFrame 'df' will have three additional columns: 'article_text', 'title_text', and 'subtitle_text'\n"
      ]
    },
    {
      "cell_type": "code",
      "execution_count": null,
      "metadata": {
        "colab": {
          "base_uri": "https://localhost:8080/"
        },
        "id": "iaOf934LzrBi",
        "outputId": "8e1e1248-e290-4980-ebfe-c0bf3c517f79"
      },
      "outputs": [
        {
          "output_type": "stream",
          "name": "stdout",
          "text": [
            "                                      _id  \\\n",
            "0    {'$oid': '5d04a31b896a7fea069ef06f'}   \n",
            "1    {'$oid': '5d04a3fc896a7fea069f0717'}   \n",
            "2    {'$oid': '5d04a455896a7fea069f07ab'}   \n",
            "3    {'$oid': '5d04a52f896a7fea069f0921'}   \n",
            "4    {'$oid': '5d04a8d7896a7fea069f6997'}   \n",
            "..                                    ...   \n",
            "368  {'$oid': '5cee2df3896a7fea06c54a35'}   \n",
            "369  {'$oid': '5ceee4c4896a7fea06cc3895'}   \n",
            "370  {'$oid': '5cef7f74896a7fea06d223f7'}   \n",
            "371  {'$oid': '5cefd3d4896a7fea06d57241'}   \n",
            "372  {'$oid': '5cf4b764896a7fea06032673'}   \n",
            "\n",
            "                                    authors  \\\n",
            "0                    [José Vítor Malheiros]   \n",
            "1                         [Rui J. Baptista]   \n",
            "2                           [Fernando Belo]   \n",
            "3    [Hamad bin Khalifa bin Ahmad Al Thani]   \n",
            "4                          [Carlos Nolasco]   \n",
            "..                                      ...   \n",
            "368                            [Nuno Sousa]   \n",
            "369                 [Francisco Bethencourt]   \n",
            "370                          [Nuno Pacheco]   \n",
            "371                            [Bruno Maia]   \n",
            "372                  [Tiago Neves Sequeira]   \n",
            "\n",
            "                                                                                                                   url_canonical  \\\n",
            "0                              https://www.publico.pt/2014/06/17/desporto/opiniao/pouco-pao-e-muito-circo-morte-e-bocejo-1650570   \n",
            "1                     https://www.publico.pt/2014/07/05/desporto/opiniao/portugal-nos-mundiais-de-futebol-de-2010-e-2014-1661651   \n",
            "2                                             https://www.publico.pt/2014/07/12/desporto/opiniao/futebol-guerra-religiao-1662116   \n",
            "3                   https://www.publico.pt/2014/07/27/desporto/opiniao/as-razoes-do-qatar-para-acolher-o-mundial-em-2022-1664226   \n",
            "4                                      https://www.publico.pt/2014/10/23/desporto/opiniao/a-politica-no-campo-de-futebol-1673740   \n",
            "..                                                                                                                           ...   \n",
            "368                                https://www.publico.pt/2019/05/29/desporto/opiniao/jogador-residente-aplauso-raridade-1874465   \n",
            "369                                              https://www.publico.pt/2019/05/29/mundo/opiniao/brexit-opiniao-estatica-1874615   \n",
            "370             https://www.publico.pt/2019/05/30/culturaipsilon/opiniao/socorro-querem-roubarnos-lingua-deixarnos-mudos-1874557   \n",
            "371                                          https://www.publico.pt/2019/05/30/sociedade/opiniao/300-dias-espera-canabis-1874713   \n",
            "372  https://www.publico.pt/2019/06/03/sociedade/opiniao/escolha-curso-superior-existe-transparencia-informacao-familias-1874938   \n",
            "\n",
            "            publish_date       topics  \\\n",
            "0    2014-06-17 00:16:00   [desporto]   \n",
            "1    2014-07-05 02:46:00   [desporto]   \n",
            "2    2014-07-12 16:05:33   [desporto]   \n",
            "3    2014-07-27 02:00:00   [desporto]   \n",
            "4    2014-10-23 00:16:00   [desporto]   \n",
            "..                   ...          ...   \n",
            "368  2019-05-29 07:32:00   [desporto]   \n",
            "369  2019-05-29 20:00:00      [mundo]   \n",
            "370  2019-05-30 07:30:00    [cultura]   \n",
            "371  2019-05-30 13:18:44  [sociedade]   \n",
            "372  2019-06-03 06:44:00  [sociedade]   \n",
            "\n",
            "                                                                                                                                                                                                                                                                                                                                                                                                                                                                                                                                                                                                                                                                                                                                                                                                                                                                                                                                                                                                                        argument_annotations  \\\n",
            "0    [{'nodes': [{'id': 0, 'x': 66, 'y': 143, 'width': 202, 'height': 64, 'type': 'I', 'color': 'blue', 'scheme': 0, 'visible': True, 'ranges': [[2516, 2556]], 'label': 'Valor'}, {'id': 1, 'x': 100, 'y': 384, 'width': 191, 'height': 184, 'type': 'I', 'color': 'blue', 'scheme': 0, 'visible': True, 'ranges': [[2568, 2806]], 'label': 'Valor'}, {'id': 2, 'x': 151, 'y': 324, 'width': 56, 'height': 40, 'type': 'RA', 'color': 'green', 'scheme': 72, 'visible': True, 'ranges': [], 'label': 'nullADU'}, {'id': 3, 'x': 539, 'y': 96, 'width': 122, 'height': 64, 'type': 'I', 'color': 'blue', 'scheme': 0, 'visible': True, 'ranges': [[3169, 3190]], 'label': 'Valor'}, {'id': 4, 'x': 523, 'y': 295, 'width': 193, 'height': 104, 'type': 'I', 'color': 'blue', 'scheme': 0, 'visible': True, 'ranges': [[3198, 3285]], 'label': 'Valor'}, {'id': 5, 'x': 565, 'y': 219, 'width': 56, 'height': 40, 'type': 'RA', 'color': 'green', 'scheme': 72, 'visible': True, 'ranges': [], 'label': 'nullADU'}, {'id': 6, 'x': 622, 'y...   \n",
            "1    [{'nodes': [{'id': 0, 'x': 163, 'y': 158, 'width': 192, 'height': 144, 'type': 'I', 'color': 'blue', 'scheme': 0, 'visible': True, 'ranges': [[1460, 1621]], 'label': 'Facto'}, {'id': 1, 'x': 152, 'y': 474, 'width': 188, 'height': 204, 'type': 'I', 'color': 'blue', 'scheme': 0, 'visible': True, 'ranges': [[1623, 1903]], 'label': 'Facto'}, {'id': 2, 'x': 231, 'y': 371, 'width': 56, 'height': 40, 'type': 'RA', 'color': 'green', 'scheme': 72, 'visible': True, 'ranges': [], 'label': 'nullADU'}], 'edges': [{'from': {'id': 1}, 'to': {'id': 2}, 'visible': True}, {'from': {'id': 2}, 'to': {'id': 0}, 'visible': True}], 'metadata': {'annotatorId': 'A', 'ranges': [[[1460, 1621]], [[1623, 1903]], 'null']}}, {'nodes': [{'id': 0, 'x': 128, 'y': 108, 'width': 192, 'height': 144, 'type': 'I', 'color': 'blue', 'scheme': 0, 'visible': True, 'ranges': [[1460, 1621]], 'label': 'Facto'}, {'id': 1, 'x': 143, 'y': 328, 'width': 187, 'height': 144, 'type': 'I', 'color': 'blue', 'scheme': 0, 'visible': True...   \n",
            "2    [{'nodes': [{'id': 0, 'x': 237, 'y': 44, 'width': 197, 'height': 124, 'type': 'I', 'color': 'blue', 'scheme': 0, 'visible': True, 'ranges': [[2655, 2788]], 'label': 'Valor'}, {'id': 1, 'x': 191, 'y': 260, 'width': 194, 'height': 104, 'type': 'I', 'color': 'blue', 'scheme': 0, 'visible': True, 'ranges': [[2803, 2904]], 'label': 'Valor'}, {'id': 2, 'x': 420, 'y': 260, 'width': 194, 'height': 104, 'type': 'I', 'color': 'blue', 'scheme': 0, 'visible': True, 'ranges': [[3006, 3096]], 'label': 'Valor'}, {'id': 3, 'x': 44.78329669730725, 'y': 272.37860218726075, 'width': 124, 'height': 64, 'type': 'I', 'color': 'blue', 'scheme': 0, 'visible': True, 'ranges': [[3269, 3293]], 'label': 'Valor'}, {'id': 4, 'x': 15.968668132107709, 'y': 503.5378812992755, 'width': 183, 'height': 84, 'type': 'I', 'color': 'blue', 'scheme': 0, 'visible': True, 'ranges': [[3295, 3342]], 'label': 'Valor'}, {'id': 5, 'x': 622, 'y': 144, 'width': 186, 'height': 104, 'type': 'I', 'color': 'blue', 'scheme': 0, 'visibl...   \n",
            "3    [{'nodes': [{'id': 0, 'x': 55, 'y': 92, 'width': 143, 'height': 64, 'type': 'I', 'color': 'blue', 'scheme': 0, 'visible': True, 'ranges': [[0, 28]], 'label': 'Valor(+)'}, {'id': 1, 'x': 136, 'y': 349, 'width': 208, 'height': 64, 'type': 'I', 'color': 'blue', 'scheme': 0, 'visible': True, 'ranges': [[30, 70]], 'label': 'Valor(+)'}, {'id': 2, 'x': 368, 'y': 349, 'width': 83, 'height': 64, 'type': 'I', 'color': 'blue', 'scheme': 0, 'visible': True, 'ranges': [[72, 85]], 'label': 'Valor(+)'}, {'id': 3, 'x': 488, 'y': 335, 'width': 103, 'height': 64, 'type': 'I', 'color': 'blue', 'scheme': 0, 'visible': True, 'ranges': [[88, 105]], 'label': 'Valor(+)'}, {'id': 4, 'x': 172, 'y': 233, 'width': 56, 'height': 40, 'type': 'RA', 'color': 'green', 'scheme': 72, 'visible': True, 'ranges': [], 'label': 'nullADU'}, {'id': 5, 'x': 225, 'y': 233, 'width': 56, 'height': 40, 'type': 'RA', 'color': 'green', 'scheme': 72, 'visible': True, 'ranges': [], 'label': 'nullADU'}, {'id': 6, 'x': 295, 'y': 226,...   \n",
            "4    [{'nodes': [{'id': 0, 'x': 282.1485148514851, 'y': -4.415841584158421, 'width': 220, 'height': 84, 'type': 'I', 'color': 'blue', 'scheme': 0, 'visible': True, 'ranges': [[1075, 1154]], 'label': 'Valor'}, {'id': 1, 'x': 456.999699969997, 'y': 240.00130013001302, 'width': 188, 'height': 144, 'type': 'I', 'color': 'blue', 'scheme': 0, 'visible': True, 'ranges': [[1309, 1473]], 'label': 'Facto'}, {'id': 2, 'x': 445, 'y': 181, 'width': 56, 'height': 40, 'type': 'RA', 'color': 'green', 'scheme': 72, 'visible': True, 'ranges': [], 'label': 'nullADU'}, {'id': 3, 'x': 666, 'y': 237, 'width': 196, 'height': 144, 'type': 'I', 'color': 'blue', 'scheme': 0, 'visible': True, 'ranges': [[1597, 1767]], 'label': 'Facto'}, {'id': 4, 'x': 588.003600360036, 'y': 135.99499949994998, 'width': 56, 'height': 40, 'type': 'RA', 'color': 'green', 'scheme': 72, 'visible': True, 'ranges': [], 'label': 'nullADU'}, {'id': 5, 'x': -9, 'y': 239, 'width': 199, 'height': 144, 'type': 'I', 'color': 'blue', 'scheme': ...   \n",
            "..                                                                                                                                                                                                                                                                                                                                                                                                                                                                                                                                                                                                                                                                                                                                                                                                                                                                                                                                                                                                                                       ...   \n",
            "368  [{'nodes': [{'id': 0, 'x': 256, 'y': 17, 'width': 207, 'height': 124, 'type': 'I', 'color': 'blue', 'scheme': 0, 'visible': True, 'ranges': [[1176, 1326]], 'label': 'Valor'}, {'id': 1, 'x': 238, 'y': 290, 'width': 156, 'height': 64, 'type': 'I', 'color': 'blue', 'scheme': 0, 'visible': True, 'ranges': [[1337, 1365]], 'label': 'Valor'}, {'id': 2, 'x': 293, 'y': 183, 'width': 56, 'height': 40, 'type': 'RA', 'color': 'green', 'scheme': 72, 'visible': True, 'ranges': [], 'label': 'nullADU'}, {'id': 3, 'x': 430, 'y': 288, 'width': 194, 'height': 144, 'type': 'I', 'color': 'blue', 'scheme': 0, 'visible': True, 'ranges': [[1372, 1540]], 'label': 'Valor'}, {'id': 4, 'x': 400, 'y': 180, 'width': 56, 'height': 40, 'type': 'RA', 'color': 'green', 'scheme': 72, 'visible': True, 'ranges': [], 'label': 'nullADU'}, {'id': 5, 'x': 283, 'y': 508, 'width': 222, 'height': 64, 'type': 'I', 'color': 'blue', 'scheme': 0, 'visible': True, 'ranges': [[3410, 3453]], 'label': 'Valor'}, {'id': 6, 'x': 298, '...   \n",
            "369  [{'nodes': [{'id': 0, 'x': 329.3129980759355, 'y': 51.886703565926496, 'width': 192, 'height': 64, 'type': 'I', 'color': 'blue', 'scheme': 0, 'visible': True, 'ranges': [[308, 344]], 'label': 'Valor'}, {'id': 1, 'x': 348, 'y': 292, 'width': 190, 'height': 84, 'type': 'I', 'color': 'blue', 'scheme': 0, 'visible': True, 'ranges': [[351, 410]], 'label': 'Valor'}, {'id': 2, 'x': 413, 'y': 214, 'width': 56, 'height': 40, 'type': 'RA', 'color': 'green', 'scheme': 72, 'visible': True, 'ranges': [], 'label': 'nullADU'}, {'id': 3, 'x': 494, 'y': 473, 'width': 178, 'height': 84, 'type': 'I', 'color': 'blue', 'scheme': 0, 'visible': True, 'ranges': [[428, 480]], 'label': 'Facto'}, {'id': 4, 'x': 492, 'y': 413, 'width': 52, 'height': 40, 'type': 'CA', 'color': 'red', 'scheme': 71, 'visible': True, 'ranges': [], 'label': 'nullADU'}, {'id': 5, 'x': -28, 'y': 234, 'width': 236, 'height': 84, 'type': 'I', 'color': 'blue', 'scheme': 0, 'visible': True, 'ranges': [[2549, 2631]], 'label': 'Valor'}, {...   \n",
            "370  [{'nodes': [{'id': 0, 'x': 183, 'y': 241, 'width': 198, 'height': 104, 'type': 'I', 'color': 'blue', 'scheme': 0, 'visible': True, 'ranges': [[879, 977]], 'label': 'Valor'}, {'id': 1, 'x': 176, 'y': 69, 'width': 224, 'height': 64, 'type': 'I', 'color': 'blue', 'scheme': 0, 'visible': True, 'ranges': [[826, 870]], 'label': 'Valor'}, {'id': 2, 'x': 259, 'y': 165, 'width': 56, 'height': 40, 'type': 'RA', 'color': 'green', 'scheme': 72, 'visible': True, 'ranges': [], 'label': 'nullADU'}, {'id': 3, 'x': 547, 'y': 130, 'width': 144, 'height': 64, 'type': 'I', 'color': 'blue', 'scheme': 0, 'visible': True, 'ranges': [[979, 1007]], 'label': 'Valor'}, {'id': 4, 'x': 524, 'y': 294, 'width': 194, 'height': 84, 'type': 'I', 'color': 'blue', 'scheme': 0, 'visible': True, 'ranges': [[1078, 1135]], 'label': 'Valor'}, {'id': 5, 'x': 591, 'y': 226, 'width': 56, 'height': 40, 'type': 'RA', 'color': 'green', 'scheme': 72, 'visible': True, 'ranges': [], 'label': 'nullADU'}, {'id': 6, 'x': 179, 'y': 47...   \n",
            "371  [{'nodes': [{'id': 0, 'x': 186, 'y': 136, 'width': 194, 'height': 84, 'type': 'I', 'color': 'blue', 'scheme': 0, 'visible': True, 'ranges': [[1255, 1322]], 'label': 'Valor'}, {'id': 1, 'x': 192, 'y': 327, 'width': 193, 'height': 84, 'type': 'I', 'color': 'blue', 'scheme': 0, 'visible': True, 'ranges': [[1324, 1396]], 'label': 'Valor'}, {'id': 2, 'x': 260, 'y': 251, 'width': 56, 'height': 40, 'type': 'RA', 'color': 'green', 'scheme': 72, 'visible': True, 'ranges': [], 'label': 'nullADU'}, {'id': 3, 'x': 186, 'y': -87, 'width': 188, 'height': 124, 'type': 'I', 'color': 'blue', 'scheme': 0, 'visible': True, 'ranges': [[1413, 1523]], 'label': 'Valor'}, {'id': 4, 'x': 267, 'y': 62, 'width': 56, 'height': 40, 'type': 'RA', 'color': 'green', 'scheme': 72, 'visible': True, 'ranges': [], 'label': 'nullADU'}, {'id': 5, 'x': 294, 'y': 422, 'width': 189, 'height': 64, 'type': 'I', 'color': 'blue', 'scheme': 0, 'visible': True, 'ranges': [[2408, 2444]], 'label': 'Facto'}, {'id': 6, 'x': 690, 'y...   \n",
            "372  [{'nodes': [{'id': 0, 'x': 257, 'y': 51, 'width': 173, 'height': 64, 'type': 'I', 'color': 'blue', 'scheme': 0, 'visible': True, 'ranges': [[265, 298]], 'label': 'Valor'}, {'id': 1, 'x': 771, 'y': 4, 'width': 183, 'height': 104, 'type': 'I', 'color': 'blue', 'scheme': 0, 'visible': True, 'ranges': [[895, 991]], 'label': 'Facto'}, {'id': 2, 'x': 863, 'y': 206, 'width': 197, 'height': 104, 'type': 'I', 'color': 'blue', 'scheme': 0, 'visible': True, 'ranges': [[1209, 1297]], 'label': 'Facto'}, {'id': 3, 'x': 861, 'y': 126, 'width': 56, 'height': 40, 'type': 'RA', 'color': 'green', 'scheme': 72, 'visible': True, 'ranges': [], 'label': 'nullADU'}, {'id': 4, 'x': 1079, 'y': 205, 'width': 189, 'height': 104, 'type': 'I', 'color': 'blue', 'scheme': 0, 'visible': True, 'ranges': [[1300, 1386]], 'label': 'Facto'}, {'id': 5, 'x': 965, 'y': 126, 'width': 56, 'height': 40, 'type': 'RA', 'color': 'green', 'scheme': 72, 'visible': True, 'ranges': [], 'label': 'nullADU'}, {'id': 6, 'x': 447, 'y': ...   \n",
            "\n",
            "                                                                                                                                                                                                                                                                                                                                                                                                                                                                                                                                                                                                                                                                                                                                                                                                                                                                                                                                                                                                                                article_text  \\\n",
            "0    \\nTambém eu sinto que há um Portugal que morre, enquanto o resto de Portugal boceja. Ou cachecoleja com o Mundial. Ou se mobiliza para o duelo no PS, trocando dichotes. Ou faz contas aos votos das próximas eleições e aos lugares que ficarão sujeitos a licitação. Ou esfrega as mãos de satisfação ao ver como se conseguiu “reduzir os custos unitários do trabalho”, “flexibilizar a legislação laboral e agilizar os licenciamentos” e “promover a requalificação e mobilidade na função pública”.O bocejo não é um desinteresse de tudo. É apenas um desinteresse por quem morre, pela outra Espanha, pelo outro Portugal, pelos outros, um enorme tédio e desinteresse por quem não aparece na televisão e nas revistas e por quem não contribui para o seu embrutecimento. Por quem é pobre e doente e velho e ignorante e desempregado e por quem quer que seja que pertença às minorias que toleramos.Há no discurso político uma tal preocupação com a peleja partidária para a mera conquista de terreno e uma tal in...   \n",
            "1    \\n“O mais excelente quadro posto a uma luz logo mostra borrões, e, visto a melhor luz, logo descobre pinturas” (Padre António Vieira)Através da análise de Miguel Sousa Tavares (Jornal da Noite SIC, 30/06/2014) foi posta em causa a renovação do contrato de Paulo Bento com a Federação Portuguesa de Futebol dias antes do começo do actual campeonato mundial de futebol. Situação que, ainda que segundo este comentador, não teve paralelo em situações contratuais de outras equipas europeias que, como sói dizer-se, não passaram cheques em branco.E este facto é tanto mais insólito se nos detivermos sobre o tratamento de excepção dado a Paulo Bento, se confrontado com a forma, para utilizar um eufemismo, pouco ortodoxa como foi “despedido” Carlos Queiroz após o Campeonato do Mundo realizado na África do Sul, em 2010.Neste contexto, depois de na fase de grupos ter empatado com a Costa do Marfim e Brasil e vencido copiosamente a Coreia do Norte por 7-0 (equipa que viria a perder com o Brasil pe...   \n",
            "2    \\nAs sociedades agrícolas, por sua vez, tiveram guerreiros como castas \"nobres\" dominantes. Mas também a níveis internos, cidades e regiões, onde quer que haja \"estranhos\" aos costumes locais, mas mesmo familiares, entre irmãos e herdeiros, entre vizinhos de bairro, predominam sempre rivalidades de tipo diferente, como se as alianças sociais suscitassem delas mesmo irritações mais ou menos permanentes. Esta lei da guerra é uma espécie de deslocamento da lei da selva que opõe os animais carnívoros aos herbívoros e estes às plantas como condição de sobrevivência, já que só se alimentando de vivos se conseguem as moléculas complexas à base de carbono de que são feitas as células (as plantas recebem o carbono da fotossíntese) e justifica que as anatomias dos animais ganhem em músculos e astúcias quanto mais crescem as espécies. Assim fortes e astuciosos os humanos. Quando deixaram de ser canibais, sobrou-lhes apenas a guerra. Eis onde reside o velho problema do mal, da violência.2. Qua...   \n",
            "3    \\nO Qatar não tem uma tradição rica na história do futebol. Somos um país pequeno, e as nossas temperaturas no Verão são elevadas. Por mais injusto que seja, somente a nossa riqueza já é motivo de suspeita. A nossa campanha foi vitoriosa, não porque ignorámos estas importantes questões, mas porque apresentámos argumentos convincentes. Nós transformámos cada desafio a nosso favor. Ganhámos porque a nossa campanha foi vista como a melhor.A história do futebol do Qatar pode até ser mais recente do que a da Europa ou a da América do Sul, mas tanto no nosso país como no Médio Oriente, a paixão por esse desporto é igualmente forte. Os membros da FIFA entenderam isso e interessaram-se em levar o campeonato para uma região nova. Os Mundiais nos Estados Unidos, em 1994, no Japão e na Coreia do Sul, em 2002, e na África do Sul, em 2010, contribuíram para o crescimento da popularidade do futebol em todo o mundo. Esta é a oportunidade de levar o campeonato até aos muitos milhões de fãs de fute...   \n",
            "4    \\nVem isto a propósito dos incidentes ocorridos no jogo de qualificação para o Campeonato da Europa 2016, entre a Sérvia e a Albânia. Próximo do intervalo, um drone com a bandeira da “Grande Albânia” sobrevoou o relvado e o caos instalou-se com invasão de campo e agressões físicas, o que levou à suspensão do jogo. Referindo-se aos incidentes, o presidente da UEFA, Michel Platini, afirmou estar muito triste com o sucedido, porque “o jogo não deve ser confundido com política”, enquanto o presidente da FIFA, Joseph Blatter, argumentou dizendo que o “futebol jamais deverá ser usado para mensagens políticas”.A história do futebol está cheia de episódios semelhantes ao ocorrido na Sérvia. Logo em 1934, na segunda edição do campeonato do mundo, disputado em Itália, Mussolini utilizou a seleção transalpina para fazer a apologia do fascismo. Em 1937, em Espanha, perante o avanço de Franco, vários jogadores bascos desertaram dos seus clubes e formaram uma equipa pretensamente representativa ...   \n",
            "..                                                                                                                                                                                                                                                                                                                                                                                                                                                                                                                                                                                                                                                                                                                                                                                                                                                                                                                                                                                                                                       ...   \n",
            "368  \\nEra apenas mais um jogo da Lazio, em final de época e já sem objectivos palpáveis em causa. Nas bancadas, os tiffosi de sempre com uma mensagem invulgar: “A (Curva) Norte saúda De Rossi, feroz e irredutível inimigo em campo”. De Rossi, um adversário de longa data, jogador-bandeira do grande rival da cidade, merecia uma vénia vinda do outro lado das trincheiras. Uma raridade. Um gesto de se lhe tirar o chapéu.Este episódio ocorreu há poucos dias, na partida com o Bolonha, e limitou-se a antecipar o anunciado adeus de um médio que fez da Roma a sua casa durante 18 anos. Se há país que não pode queixar-se de falta de “lealdade” de muitas das suas estrelas, é justamente a Itália, mas isso não inibe os fervorosos adeptos de agitarem a bandeira do reconhecimento. Mesmo quando se trata de um herói alheio.A caminhada de Daniele de Rossi no relvado do Estádio Olímpico chegou ao fim, mas a lenda do médio incansável, destemido e solidário vai perdurar. Tal como continua presente na mesma ar...   \n",
            "369  \\nAs eleições europeias no Reino Unido estão a ser analisadas como uma substituição do segundo referendo que o parlamento (e os maiores partidos) se têm recusado a lançar. A ideia de reafirmação da divisão do primeiro referendo tem prevalecido, combinada com surpresa perante a teimosia britânica. É obvio que não houve mudança radical de opinião, pois não se verificam ainda consequências económicas do “Brexit”, se exceptuarmos estagnação de investimento dada a incerteza política. Contudo, há mudanças significativas que prenunciam o desbloqueamento futuro.O pano de fundo tem sido a incapacidade do parlamento em chegar a uma decisão sobre o “Brexit”, tendo sido rejeitado diversas vezes o acordo firmado pelo governo com a União Europeia sem se encontraram alternativas. É esta paralisia que o leitorado decidiu castigar, transferindo votos dos dois maiores partidos, Conservador, que perdeu 15% dos votos, e Trabalhista, que perdeu 11% face às ultimas eleições europeias. Devemos dizer que ...   \n",
            "370  \\nEstava eu no Brasil, de férias, entretido (e divertido) com as diferenças entre o português de lá e de cá, quando no Expresso surgiu este título lancinante: “Há quem queira ficar com a nossa língua e quem, por cá, aplauda.” Imaginei logo uma enorme faca, afiada, a deixar-nos mudos para todo o sempre. Afinal, a coisa não era assim tão grave. Nem facas nem sangue, só um lamento por alguém, no Brasil, defender que “o português brasileiro precisa de ser reconhecido como uma nova língua”. Henrique Monteiro (HM), autor do artigo, descobriu logo a marosca: os patifes que, por cá, querem acabar com o acordo ortográfico, são óbvios cúmplices desse nefando golpe, que deixaria a Portugal um dialecto minoritário (conhecido por português), enquanto o gigante além-Atlântico falaria orgulhosamente brasileiro.Tirando o facto de tal artigo ter chegado atrasado umas décadas, já que a defesa de um grito do Ipiranga linguístico é ali velhíssima (embora sem quaisquer consequências), o artigo tem que ...   \n",
            "371  \\nPassaram mais de 300 dias desde que a Assembleia da República aprovou a regulamentação da utilização da cannabis medicinal. Quantos doentes têm hoje acesso a estes tratamentos? Nenhum. Na verdade, muitos destes doentes continuam a tomar a cannabis de que necessitam: compram online a preços elevados. No entanto, arriscam-se a ver o produto confiscado na Alfândega, mesmo quando têm uma receita ou um relatório médico.Nem o Infarmed, nem a Direção-Geral de Alimentação e Veterinária (DGAV) se entendem sobre a natureza do produto — empurram a responsabilidade de um lado para o outro até que o produto se perca em circulação e o dinheiro dos doentes desapareça. Curiosamente um destes produtos de cannabis — o óleo de CBD, já esteve comercializado em Portugal mas desapareceu após a aprovação da lei. \\n\\n\\n\\n\\nNão existem hoje dúvidas na comunidade científica que existem várias patologias e sintomas para os quais os produtos da cannabis são eficazes. Mas há um grupo especial onde o óleo de ...   \n",
            "372  \\nO mês de julho é o mês da primeira fase de candidaturas ao ensino superior, a que se segue em agosto e setembro, as segundas e terceiras fases, respectivamente.Esta é talvez uma das decisões mais importantes da vida de um jovem de 17 ou 18 anos e da sua família. A escolha não é uma escolha livre. As restrições orçamentais, o percurso anterior e os exames efetuados com sucesso e as suas classificações limitam-na. Mas, dentro dessas limitações, cada jovem é confrontado a escolher se opta por continuar os seus estudos ou entra no mercado de trabalho. É ainda confrontado com a escolha entre cursos similares de um número elevado de escolas diferentes, potencialmente em localizações diferentes, ou seja, da escolha do par estabelecimento/curso. Se a escolha do curso é muitas vezes ditada pelos gostos individuais (ou vocações) e pelas escolhas anteriores do percurso do ensino secundário, a escolha da escola e da sua localização tem um impacto não negligenciável no orçamento familiar. Por...   \n",
            "\n",
            "     title_text  subtitle_text  \n",
            "0           103           95.0  \n",
            "1           111          152.0  \n",
            "2            89           77.0  \n",
            "3           113          123.0  \n",
            "4            94           96.0  \n",
            "..          ...            ...  \n",
            "368         108            NaN  \n",
            "369          95          172.0  \n",
            "370         119          165.0  \n",
            "371          64          144.0  \n",
            "372         140          212.0  \n",
            "\n",
            "[373 rows x 9 columns]\n"
          ]
        }
      ],
      "source": [
        "pd.set_option('display.max_colwidth', 1000)\n",
        "print(df)"
      ]
    },
    {
      "cell_type": "code",
      "execution_count": null,
      "metadata": {
        "colab": {
          "base_uri": "https://localhost:8080/"
        },
        "id": "9DJPI6YtcJlN",
        "outputId": "2cc25799-e242-4291-d04f-6e18ac87bea3"
      },
      "outputs": [
        {
          "output_type": "stream",
          "name": "stdout",
          "text": [
            "      annotatorId     Label  \\\n",
            "0               A     Valor   \n",
            "1               A     Valor   \n",
            "2               A     Valor   \n",
            "3               A     Valor   \n",
            "4               A     Valor   \n",
            "...           ...       ...   \n",
            "16893           D     Valor   \n",
            "16894           D     Facto   \n",
            "16895           D  Valor(-)   \n",
            "16896           D     Valor   \n",
            "16897           D     Facto   \n",
            "\n",
            "                                                                                                                                                                                                                                              Segment  \n",
            "0                                                                                                                                                                                                            e jornalísticas. O que é espantoso é que  \n",
            "1      singularmente objectiva. O grosso do “humor” era apenas uma colagem inteligente de notícias sobre a FIFA. O humor nascia do absurdo da prática da FIFA, do gigantesco sem-sentido da sua actuação, do despropósito das declarações dos seus di  \n",
            "2                                                                                                                                                                                                                                humorista e não jorn  \n",
            "3                                                                                                                                                             mas é interessante verificar como é cada vez mais frequente que as verdades surjam nos   \n",
            "4                                                                                                                                                                                                             azem-nos bocejar. E talvez seja mais do  \n",
            "...                                                                                                                                                                                                                                               ...  \n",
            "16893                                   ais retornos do ensino superior é o número de diplomados de cada par curso/instituição inscrito no IEFP – Instituto de Emprego e Formação Profissional, tipicamente associado à taxa de desemprego. No entant  \n",
            "16894                                                                                                                                                                                                  esconde informação muito pertinente. Primeiro,  \n",
            "16895                                                                                                                                                                                                                             perfeita) dos poten  \n",
            "16896                                                                                                                                                  bém a proporção de diplomados que está empregado num lugar com qualificações a mais (por exemp  \n",
            "16897                                                                                                                                                                                               istribuição de salários dos diplomados e portanto  \n",
            "\n",
            "[16898 rows x 3 columns]\n"
          ]
        }
      ],
      "source": [
        "import pandas as pd\n",
        "import numpy as np\n",
        "# Initialize an empty list to store the output dictionaries\n",
        "output_list = []\n",
        "\n",
        "for index, row in df.iterrows():\n",
        "    annotations = row['argument_annotations']\n",
        "\n",
        "    # Iterate over each annotation in the row\n",
        "    for annotation in annotations:\n",
        "        nodes = annotation['nodes']\n",
        "        for node in nodes:\n",
        "            ranges = node['ranges']\n",
        "            label = node['label']\n",
        "            annId = annotation['metadata']['annotatorId']\n",
        "            #step = row['title_text'] + row['subtitle_text']\n",
        "            #if np.isnan(step):\n",
        "            #  step=0\n",
        "            # Iterate over each range in the node\n",
        "            for start, end in ranges:\n",
        "                #segment = row['article_text'][int(start-step):int(end-step)]\n",
        "                segment = row['article_text'][start:end]\n",
        "                # Create a dictionary with the output values\n",
        "                output = {\n",
        "                    'annotatorId': annId,\n",
        "                    'Label': label,\n",
        "                    'Segment': segment\n",
        "                }\n",
        "\n",
        "                # Append the output dictionary to the list\n",
        "                output_list.append(output)\n",
        "# Create the output dataframe using pd.DataFrame\n",
        "all_sets = pd.DataFrame(output_list)\n",
        "\n",
        "# Print the output dataframe\n",
        "print(all_sets)\n"
      ]
    },
    {
      "cell_type": "markdown",
      "metadata": {
        "id": "Mxdhp8FUei-F"
      },
      "source": [
        "#Create sets"
      ]
    },
    {
      "cell_type": "code",
      "execution_count": null,
      "metadata": {
        "id": "Punu4qKumVWL"
      },
      "outputs": [],
      "source": [
        "import pandas as pd\n",
        "from sklearn.model_selection import train_test_split\n",
        "\n",
        "# Identifica i tipi di annotatori unici nel dataframe\n",
        "annotator_types = all_sets['annotatorId'].unique()\n",
        "\n",
        "# Filtra i dataframe per i tipi di annotatori specifici\n",
        "annotator_d_df = all_sets[all_sets['annotatorId'] == 'D']\n",
        "annotator_b_df = all_sets[all_sets['annotatorId'] == 'B']\n",
        "annotators_ad_df = all_sets[all_sets['annotatorId'].isin(['A', 'D'])]\n",
        "\n",
        "# Crea i set di addestramento, validazione e test per l'annotatore D\n",
        "train_D_df, temp_d_df = train_test_split(annotator_d_df, test_size=0.3, random_state=42)\n",
        "val_d_df, test_d_df = train_test_split(temp_d_df, test_size=0.5, random_state=42)\n",
        "\n",
        "train_B_df, temp_b_df = train_test_split(annotator_b_df, test_size=0.3, random_state=42)\n",
        "val_b_df, test_b_df = train_test_split(temp_b_df, test_size=0.5, random_state=42)\n",
        "# Crea i set di addestramento, validazione e test per gli annotatori A e D insieme\n",
        "train_ad_df, temp_ad_df = train_test_split(annotators_ad_df, test_size=0.3, random_state=42)\n",
        "val_ad_df, test_ad_df = train_test_split(temp_ad_df, test_size=0.5, random_state=42)\n",
        "\n",
        "# Crea i set di addestramento, validazione e test per tutti gli annotatori insieme\n",
        "train_all_df, temp_all_df = train_test_split(all_sets, test_size=0.3, random_state=42)\n",
        "val_all_df, test_all_df = train_test_split(temp_all_df, test_size=0.5, random_state=42)\n",
        "\n",
        "# Salva i set di addestramento, validazione e test in nuovi dataframe o file\n",
        "train_D_df.to_csv('train_D.csv', index=False)\n",
        "val_d_df.to_csv('validation_D.csv', index=False)\n",
        "test_d_df.to_csv('test_D.csv', index=False)\n",
        "\n",
        "train_B_df.to_csv('train_B.csv', index=False)\n",
        "val_b_df.to_csv('validation_B.csv', index=False)\n",
        "test_b_df.to_csv('test_B.csv', index=False)\n",
        "\n",
        "train_ad_df.to_csv('train_A_D.csv', index=False)\n",
        "val_ad_df.to_csv('validation_A_D.csv', index=False)\n",
        "test_ad_df.to_csv('test_A_D.csv', index=False)\n",
        "\n",
        "train_all_df.to_csv('train_all.csv', index=False)\n",
        "val_all_df.to_csv('validation_all.csv', index=False)\n",
        "test_all_df.to_csv('test_all.csv', index=False)\n"
      ]
    },
    {
      "cell_type": "code",
      "execution_count": null,
      "metadata": {
        "colab": {
          "base_uri": "https://localhost:8080/"
        },
        "id": "vv2UV_l6uf3X",
        "outputId": "e6cc15d2-5c9e-4938-ee4a-ebb60e4091d3"
      },
      "outputs": [
        {
          "output_type": "stream",
          "name": "stdout",
          "text": [
            "Mounted at /content/drive\n"
          ]
        }
      ],
      "source": [
        "from google.colab import drive\n",
        "\n",
        "drive.mount('/content/drive')\n",
        "\n",
        "directory_path = '/content/drive/MyDrive/pw_nlp/'\n",
        "\n",
        "# Save the dataframes to the specified directory\n",
        "train_D_df.to_csv(directory_path + 'train_D.csv', index=False)\n",
        "val_d_df.to_csv(directory_path + 'validation_D.csv', index=False)\n",
        "test_d_df.to_csv(directory_path + 'test_D.csv', index=False)\n",
        "\n",
        "train_B_df.to_csv(directory_path + 'train_B.csv', index=False)\n",
        "val_b_df.to_csv(directory_path + 'validation_B.csv', index=False)\n",
        "test_b_df.to_csv(directory_path + 'test_B.csv', index=False)\n",
        "\n",
        "train_ad_df.to_csv(directory_path + 'train_A_D.csv', index=False)\n",
        "val_ad_df.to_csv(directory_path + 'validation_A_D.csv', index=False)\n",
        "test_ad_df.to_csv(directory_path + 'test_A_D.csv', index=False)\n",
        "\n",
        "train_all_df.to_csv(directory_path + 'train_all.csv', index=False)\n",
        "val_all_df.to_csv(directory_path + 'validation_all.csv', index=False)\n",
        "test_all_df.to_csv(directory_path + 'test_all.csv', index=False)\n"
      ]
    },
    {
      "cell_type": "markdown",
      "metadata": {
        "id": "pX5Znn9EemdU"
      },
      "source": [
        "#Train model"
      ]
    },
    {
      "cell_type": "code",
      "execution_count": null,
      "metadata": {
        "colab": {
          "base_uri": "https://localhost:8080/"
        },
        "id": "vOsjhfYTAu_Z",
        "outputId": "47c60b42-9e83-4a1b-ab07-20072ac3106e"
      },
      "outputs": [
        {
          "output_type": "stream",
          "name": "stdout",
          "text": [
            "Looking in indexes: https://pypi.org/simple, https://us-python.pkg.dev/colab-wheels/public/simple/\n",
            "Collecting transformers\n",
            "  Downloading transformers-4.30.1-py3-none-any.whl (7.2 MB)\n",
            "\u001b[2K     \u001b[90m━━━━━━━━━━━━━━━━━━━━━━━━━━━━━━━━━━━━━━━━\u001b[0m \u001b[32m7.2/7.2 MB\u001b[0m \u001b[31m96.6 MB/s\u001b[0m eta \u001b[36m0:00:00\u001b[0m\n",
            "\u001b[?25hRequirement already satisfied: filelock in /usr/local/lib/python3.10/dist-packages (from transformers) (3.12.0)\n",
            "Collecting huggingface-hub<1.0,>=0.14.1 (from transformers)\n",
            "  Downloading huggingface_hub-0.15.1-py3-none-any.whl (236 kB)\n",
            "\u001b[2K     \u001b[90m━━━━━━━━━━━━━━━━━━━━━━━━━━━━━━━━━━━━━━\u001b[0m \u001b[32m236.8/236.8 kB\u001b[0m \u001b[31m23.9 MB/s\u001b[0m eta \u001b[36m0:00:00\u001b[0m\n",
            "\u001b[?25hRequirement already satisfied: numpy>=1.17 in /usr/local/lib/python3.10/dist-packages (from transformers) (1.22.4)\n",
            "Requirement already satisfied: packaging>=20.0 in /usr/local/lib/python3.10/dist-packages (from transformers) (23.1)\n",
            "Requirement already satisfied: pyyaml>=5.1 in /usr/local/lib/python3.10/dist-packages (from transformers) (6.0)\n",
            "Requirement already satisfied: regex!=2019.12.17 in /usr/local/lib/python3.10/dist-packages (from transformers) (2022.10.31)\n",
            "Requirement already satisfied: requests in /usr/local/lib/python3.10/dist-packages (from transformers) (2.27.1)\n",
            "Collecting tokenizers!=0.11.3,<0.14,>=0.11.1 (from transformers)\n",
            "  Downloading tokenizers-0.13.3-cp310-cp310-manylinux_2_17_x86_64.manylinux2014_x86_64.whl (7.8 MB)\n",
            "\u001b[2K     \u001b[90m━━━━━━━━━━━━━━━━━━━━━━━━━━━━━━━━━━━━━━━━\u001b[0m \u001b[32m7.8/7.8 MB\u001b[0m \u001b[31m108.9 MB/s\u001b[0m eta \u001b[36m0:00:00\u001b[0m\n",
            "\u001b[?25hCollecting safetensors>=0.3.1 (from transformers)\n",
            "  Downloading safetensors-0.3.1-cp310-cp310-manylinux_2_17_x86_64.manylinux2014_x86_64.whl (1.3 MB)\n",
            "\u001b[2K     \u001b[90m━━━━━━━━━━━━━━━━━━━━━━━━━━━━━━━━━━━━━━━━\u001b[0m \u001b[32m1.3/1.3 MB\u001b[0m \u001b[31m82.2 MB/s\u001b[0m eta \u001b[36m0:00:00\u001b[0m\n",
            "\u001b[?25hRequirement already satisfied: tqdm>=4.27 in /usr/local/lib/python3.10/dist-packages (from transformers) (4.65.0)\n",
            "Requirement already satisfied: fsspec in /usr/local/lib/python3.10/dist-packages (from huggingface-hub<1.0,>=0.14.1->transformers) (2023.4.0)\n",
            "Requirement already satisfied: typing-extensions>=3.7.4.3 in /usr/local/lib/python3.10/dist-packages (from huggingface-hub<1.0,>=0.14.1->transformers) (4.5.0)\n",
            "Requirement already satisfied: urllib3<1.27,>=1.21.1 in /usr/local/lib/python3.10/dist-packages (from requests->transformers) (1.26.15)\n",
            "Requirement already satisfied: certifi>=2017.4.17 in /usr/local/lib/python3.10/dist-packages (from requests->transformers) (2022.12.7)\n",
            "Requirement already satisfied: charset-normalizer~=2.0.0 in /usr/local/lib/python3.10/dist-packages (from requests->transformers) (2.0.12)\n",
            "Requirement already satisfied: idna<4,>=2.5 in /usr/local/lib/python3.10/dist-packages (from requests->transformers) (3.4)\n",
            "Installing collected packages: tokenizers, safetensors, huggingface-hub, transformers\n",
            "Successfully installed huggingface-hub-0.15.1 safetensors-0.3.1 tokenizers-0.13.3 transformers-4.30.1\n"
          ]
        }
      ],
      "source": [
        "!pip install transformers"
      ]
    },
    {
      "cell_type": "code",
      "execution_count": null,
      "metadata": {
        "id": "6hA0kuGrCrch"
      },
      "outputs": [],
      "source": [
        "import pandas as pd\n",
        "import torch\n",
        "import transformers\n",
        "from sklearn.model_selection import train_test_split\n",
        "from transformers import DistilBertTokenizer, DistilBertForSequenceClassification, AdamW\n",
        "from torch.utils.data import DataLoader, Dataset\n"
      ]
    },
    {
      "cell_type": "code",
      "execution_count": null,
      "metadata": {
        "colab": {
          "base_uri": "https://localhost:8080/"
        },
        "id": "eaoGcFAUu_lu",
        "outputId": "d7146a54-3976-4816-8602-2c7219584e93"
      },
      "outputs": [
        {
          "output_type": "stream",
          "name": "stdout",
          "text": [
            "Drive already mounted at /content/drive; to attempt to forcibly remount, call drive.mount(\"/content/drive\", force_remount=True).\n"
          ]
        }
      ],
      "source": [
        "import pandas as pd\n",
        "from google.colab import drive\n",
        "\n",
        "drive.mount('/content/drive')\n",
        "directory_path = '/content/drive/MyDrive/pw_nlp/'\n",
        "\n",
        "# Load the dataframes\n",
        "train_D_df = pd.read_csv(directory_path + 'train_D.csv')\n",
        "val_d_df = pd.read_csv(directory_path + 'validation_D.csv')\n",
        "test_d_df = pd.read_csv(directory_path + 'test_D.csv')\n",
        "\n",
        "train_B_df = pd.read_csv(directory_path + 'train_B.csv')\n",
        "val_b_df = pd.read_csv(directory_path + 'validation_B.csv')\n",
        "test_b_df = pd.read_csv(directory_path + 'test_B.csv')\n",
        "\n",
        "train_ad_df = pd.read_csv(directory_path + 'train_A_D.csv')\n",
        "val_ad_df = pd.read_csv(directory_path + 'validation_A_D.csv')\n",
        "test_ad_df = pd.read_csv(directory_path + 'test_A_D.csv')\n",
        "\n",
        "train_all_df = pd.read_csv(directory_path + 'train_all.csv')\n",
        "val_all_df = pd.read_csv(directory_path + 'validation_all.csv')\n",
        "test_all_df = pd.read_csv(directory_path + 'test_all.csv')"
      ]
    },
    {
      "cell_type": "code",
      "execution_count": null,
      "metadata": {
        "colab": {
          "base_uri": "https://localhost:8080/"
        },
        "id": "OEP3G1TMJmp9",
        "outputId": "7eb9ae99-77e0-48eb-8070-7f825dee2789"
      },
      "outputs": [
        {
          "output_type": "stream",
          "name": "stdout",
          "text": [
            "['Facto', 'Valor(+)', 'nullADU', 'Diretiva', 'Valor', 'Valor(-)']\n"
          ]
        }
      ],
      "source": [
        "labels = list(labels)\n",
        "print(labels)"
      ]
    },
    {
      "cell_type": "code",
      "execution_count": null,
      "metadata": {
        "id": "SKwhTzA6Cr0Q"
      },
      "outputs": [],
      "source": [
        "class CustomDataset(Dataset):\n",
        "    def __init__(self, dataframe, tokenizer, max_length):\n",
        "        self.tokenizer = tokenizer\n",
        "        self.data = dataframe\n",
        "        self.text = self.data['Segment']\n",
        "        self.targets = self.data['Label']\n",
        "        self.max_length = max_length\n",
        "\n",
        "    def __len__(self):\n",
        "        return len(self.data)\n",
        "\n",
        "    def __getitem__(self, index):\n",
        "        text = str(self.text[index])\n",
        "        target = self.targets[index]\n",
        "\n",
        "        if target in labels:\n",
        "            target = labels.index(target)\n",
        "        else:\n",
        "            return None  # Skip instances with other labels\n",
        "\n",
        "        encoding = self.tokenizer.encode_plus(\n",
        "            text,\n",
        "            add_special_tokens=True,\n",
        "            max_length=self.max_length,\n",
        "            padding='max_length',\n",
        "            truncation=True,\n",
        "            return_token_type_ids=False,\n",
        "            return_attention_mask=True,\n",
        "            return_tensors='pt'\n",
        "        )\n",
        "\n",
        "        return {\n",
        "            'input_ids': encoding['input_ids'].flatten(),\n",
        "            'attention_mask': encoding['attention_mask'].flatten(),\n",
        "            'targets': torch.tensor(target, dtype=torch.long)\n",
        "        }\n"
      ]
    },
    {
      "cell_type": "code",
      "execution_count": null,
      "metadata": {
        "colab": {
          "base_uri": "https://localhost:8080/",
          "height": 113,
          "referenced_widgets": [
            "7337e07454494a8d9712e23b1ed82067",
            "9849ab3c2a0d4bf4bafea6ed30398f73",
            "3c17bbfad31c4df88bec859bbe4982a4",
            "ffaff838ec6d42aebefa50f881aca5e1",
            "a1c5aec5920d4ed4a197e156a3d439ab",
            "d968d09976b24709909addf547b94b20",
            "bf768193beee4b1aa41c3194210b05d0",
            "4bca2e29af4e42cc895bda0b7198f519",
            "5239337e10c34deaa7f4e0d3dab0785d",
            "d01adcc282e84e6ca5af2727de07cd9b",
            "459005d301084b40becd49d0baf99901",
            "f765a0e1e9074ea5957b66a193c2f343",
            "8f23dfaa1aa849fbbea98f26e9fad48c",
            "28cd160e4df9419787293c26777cbb95",
            "fd20c535db66472a86a5a1e0015f74a0",
            "36c4d6fd2dca463abc6e537c19908277",
            "af11cf0b0b2e4ba5b267bfadeaf7ec7f",
            "7546d69cd06545b49b1f183fc3a89c25",
            "1cacf56d5f0149a5a97dccf53af4819f",
            "717768f095c6462c8ded911fd1c9095c",
            "f06e5f506be747e79dd5587628835f7e",
            "96bf892d09324e2d96bfc31e22510647",
            "719d3d47e84843a18fbbc37f9a93453b",
            "ef5be1ff846a483297c3343f57167df7",
            "f801ce2696cc4cd9aa5aac2b6bf3ff1b",
            "74d08b6a864647a1a6e083ec8e2e714a",
            "c11c1b2475d64c01914d5fceb42c7c8c",
            "9125f5606839409886b4d317c5c82db7",
            "a22a81b128d846e18a0b667e316e5419",
            "d1558578528049f58e20a126d959199a",
            "fe5ba357a07b4676bf2830cd23161b77",
            "99cca27760644c57a2bec8aaa5421ad0",
            "37ed8f252b9e4b99a6902218c3e30a68"
          ]
        },
        "id": "h3fMppstC66g",
        "outputId": "0d41dfb3-67ec-4a3a-82f4-01a4069d72fb"
      },
      "outputs": [
        {
          "output_type": "display_data",
          "data": {
            "text/plain": [
              "Downloading (…)solve/main/vocab.txt:   0%|          | 0.00/232k [00:00<?, ?B/s]"
            ],
            "application/vnd.jupyter.widget-view+json": {
              "version_major": 2,
              "version_minor": 0,
              "model_id": "7337e07454494a8d9712e23b1ed82067"
            }
          },
          "metadata": {}
        },
        {
          "output_type": "display_data",
          "data": {
            "text/plain": [
              "Downloading (…)okenizer_config.json:   0%|          | 0.00/28.0 [00:00<?, ?B/s]"
            ],
            "application/vnd.jupyter.widget-view+json": {
              "version_major": 2,
              "version_minor": 0,
              "model_id": "f765a0e1e9074ea5957b66a193c2f343"
            }
          },
          "metadata": {}
        },
        {
          "output_type": "display_data",
          "data": {
            "text/plain": [
              "Downloading (…)lve/main/config.json:   0%|          | 0.00/483 [00:00<?, ?B/s]"
            ],
            "application/vnd.jupyter.widget-view+json": {
              "version_major": 2,
              "version_minor": 0,
              "model_id": "719d3d47e84843a18fbbc37f9a93453b"
            }
          },
          "metadata": {}
        }
      ],
      "source": [
        "tokenizer = DistilBertTokenizer.from_pretrained('distilbert-base-uncased')"
      ]
    },
    {
      "cell_type": "code",
      "execution_count": null,
      "metadata": {
        "colab": {
          "base_uri": "https://localhost:8080/"
        },
        "id": "kGPD1l17C84J",
        "outputId": "e0c3e887-09a3-48e6-8582-29795f112dac"
      },
      "outputs": [
        {
          "output_type": "stream",
          "name": "stdout",
          "text": [
            "cuda\n"
          ]
        }
      ],
      "source": [
        "device = torch.device('cuda' if torch.cuda.is_available() else 'cpu')\n",
        "batch_size = 16\n",
        "epochs = 5\n",
        "learning_rate = 2e-5\n",
        "print(device)\n",
        "loss_fn = torch.nn.CrossEntropyLoss().to(device)"
      ]
    },
    {
      "cell_type": "code",
      "execution_count": null,
      "metadata": {
        "id": "E227sPaevF5s"
      },
      "outputs": [],
      "source": [
        "def train(model_name,train_set, val_set):\n",
        "    tokenizer = DistilBertTokenizer.from_pretrained('distilbert-base-uncased')\n",
        "\n",
        "    model = DistilBertForSequenceClassification.from_pretrained('distilbert-base-uncased', num_labels=6)\n",
        "    model = model.to(device)\n",
        "    optimizer = AdamW(model.parameters(), lr=learning_rate)\n",
        "\n",
        "    train_Af = pd.read_csv(train_set)\n",
        "    val_df = pd.read_csv(val_set)\n",
        "\n",
        "    train_Aataset = CustomDataset(train_Af, tokenizer, max_length=512)\n",
        "    val_dataset = CustomDataset(val_df, tokenizer, max_length=512)\n",
        "\n",
        "    train_loader = DataLoader(train_Aataset, batch_size=batch_size, shuffle=True)\n",
        "    val_loader = DataLoader(val_dataset, batch_size=batch_size)\n",
        "\n",
        "    best_val_loss = float('inf')  # Initialize with a large value\n",
        "    best_model_path = model_name + '.pth'  # File path to save the best model\n",
        "\n",
        "    # Training loop\n",
        "    print('Start training...')\n",
        "    for epoch in range(epochs):\n",
        "        model.train()\n",
        "        total_loss = 0\n",
        "\n",
        "        for batch in train_loader:\n",
        "            input_ids = batch['input_ids'].to(device)\n",
        "            attention_mask = batch['attention_mask'].to(device)\n",
        "            targets = batch['targets'].to(device)\n",
        "\n",
        "            optimizer.zero_grad()\n",
        "            outputs = model(input_ids, attention_mask=attention_mask, labels=targets)\n",
        "            loss = outputs.loss\n",
        "            total_loss += loss.item()\n",
        "\n",
        "            loss.backward()\n",
        "            optimizer.step()\n",
        "\n",
        "        average_loss = total_loss / len(train_loader)\n",
        "        # Training progress...\n",
        "\n",
        "        # Evaluation\n",
        "        model.eval()\n",
        "        val_loss = 0\n",
        "        val_correct = 0\n",
        "        val_total = 0\n",
        "\n",
        "        with torch.no_grad():\n",
        "            for batch in val_loader:\n",
        "                input_ids = batch['input_ids'].to(device)\n",
        "                attention_mask = batch['attention_mask'].to(device)\n",
        "                targets = batch['targets'].to(device)\n",
        "\n",
        "                outputs = model(input_ids, attention_mask=attention_mask, labels=targets)\n",
        "                loss = outputs.loss\n",
        "                val_loss += loss.item()\n",
        "\n",
        "                _, predicted = torch.max(outputs.logits, dim=1)\n",
        "                val_total += targets.size(0)\n",
        "                val_correct += (predicted == targets).sum().item()\n",
        "\n",
        "        val_accuracy = val_correct / val_total\n",
        "        val_avg_loss = val_loss / len(val_loader)\n",
        "        print(f\"Epoch {epoch + 1}/{epochs} - Training Loss: {average_loss:.4f} - Validation Loss: {val_avg_loss:.4f} - Validation Accuracy: {val_accuracy:.4f}\")\n",
        "\n",
        "        # Check if current validation loss is better than the previous best\n",
        "        if val_avg_loss < best_val_loss:\n",
        "            best_val_loss = val_avg_loss\n",
        "            torch.save(model.state_dict(), best_model_path)\n",
        "            print(\"Saved the best model!\")\n",
        "\n",
        "    print(\"Training completed.\")"
      ]
    },
    {
      "cell_type": "code",
      "execution_count": null,
      "metadata": {
        "id": "hnaDXrUcC_MB"
      },
      "outputs": [],
      "source": [
        "def test(model_name,test_set):\n",
        "    model = DistilBertForSequenceClassification.from_pretrained('distilbert-base-uncased', num_labels=6)\n",
        "    model.load_state_dict(torch.load(model_name+'.pth'))\n",
        "    model = model.to(device)\n",
        "    optimizer = AdamW(model.parameters(), lr=learning_rate)\n",
        "    model.eval()\n",
        "    test_loss = 0\n",
        "    test_correct = 0\n",
        "    test_total = 0\n",
        "\n",
        "    test_df = pd.read_csv(test_set)\n",
        "    test_dataset = CustomDataset(test_df, tokenizer, max_length=512)\n",
        "    test_loader = DataLoader(test_dataset, batch_size=batch_size)\n",
        "\n",
        "    with torch.no_grad():\n",
        "        for batch in test_loader:\n",
        "            input_ids = batch['input_ids'].to(device)\n",
        "            attention_mask = batch['attention_mask'].to(device)\n",
        "            targets = batch['targets'].to(device)\n",
        "\n",
        "            outputs = model(input_ids, attention_mask=attention_mask, labels=targets)\n",
        "            loss = outputs.loss\n",
        "            test_loss += loss.item()\n",
        "\n",
        "            _, predicted = torch.max(outputs.logits, dim=1)\n",
        "            test_total += targets.size(0)\n",
        "            test_correct += (predicted == targets).sum().item()\n",
        "\n",
        "    test_accuracy = test_correct / test_total\n",
        "    test_avg_loss = test_loss / len(test_loader)\n",
        "    print(f\"Test Loss: {test_avg_loss:.4f} - Test Accuracy: {test_accuracy:.4f}\")"
      ]
    },
    {
      "cell_type": "code",
      "execution_count": null,
      "metadata": {
        "colab": {
          "base_uri": "https://localhost:8080/",
          "height": 347,
          "referenced_widgets": [
            "e44c49a16f7544ae99f76aa4e2803839",
            "eb7e228e74f64b7b81f976df1323602e",
            "065c9022bcf04b0e9c0946e6407b93e8",
            "8f82afeb730a425693bed1dbc273dfeb",
            "4ca6d30fd0064aeeb81b154e11e50863",
            "fb5467b0285d4e9ca412dedf3ac3d9b0",
            "360b3b5357564eee940ff81dbd2d1814",
            "758292d20cb44cecb25d7327a60e4ae6",
            "519f7b21f74c4c7480e4ff7e8e9096de",
            "6eb4eb2808b348a68001f4bdd6431e7a",
            "8883c035c60a4a03a2e953be06ff890a"
          ]
        },
        "id": "PBebMS45VFdu",
        "outputId": "26ab4843-3675-4bbb-b27e-156125454b68"
      },
      "outputs": [
        {
          "output_type": "display_data",
          "data": {
            "text/plain": [
              "Downloading model.safetensors:   0%|          | 0.00/268M [00:00<?, ?B/s]"
            ],
            "application/vnd.jupyter.widget-view+json": {
              "version_major": 2,
              "version_minor": 0,
              "model_id": "e44c49a16f7544ae99f76aa4e2803839"
            }
          },
          "metadata": {}
        },
        {
          "output_type": "stream",
          "name": "stderr",
          "text": [
            "Some weights of the model checkpoint at distilbert-base-uncased were not used when initializing DistilBertForSequenceClassification: ['vocab_transform.bias', 'vocab_layer_norm.bias', 'vocab_layer_norm.weight', 'vocab_transform.weight', 'vocab_projector.bias']\n",
            "- This IS expected if you are initializing DistilBertForSequenceClassification from the checkpoint of a model trained on another task or with another architecture (e.g. initializing a BertForSequenceClassification model from a BertForPreTraining model).\n",
            "- This IS NOT expected if you are initializing DistilBertForSequenceClassification from the checkpoint of a model that you expect to be exactly identical (initializing a BertForSequenceClassification model from a BertForSequenceClassification model).\n",
            "Some weights of DistilBertForSequenceClassification were not initialized from the model checkpoint at distilbert-base-uncased and are newly initialized: ['classifier.bias', 'classifier.weight', 'pre_classifier.weight', 'pre_classifier.bias']\n",
            "You should probably TRAIN this model on a down-stream task to be able to use it for predictions and inference.\n",
            "/usr/local/lib/python3.10/dist-packages/transformers/optimization.py:411: FutureWarning: This implementation of AdamW is deprecated and will be removed in a future version. Use the PyTorch implementation torch.optim.AdamW instead, or set `no_deprecation_warning=True` to disable this warning\n",
            "  warnings.warn(\n"
          ]
        },
        {
          "output_type": "stream",
          "name": "stdout",
          "text": [
            "Start training...\n",
            "Epoch 1/5 - Training Loss: 1.3912 - Validation Loss: 1.3495 - Validation Accuracy: 0.4198\n",
            "Saved the best model!\n",
            "Epoch 2/5 - Training Loss: 1.3385 - Validation Loss: 1.3398 - Validation Accuracy: 0.4506\n",
            "Saved the best model!\n",
            "Epoch 3/5 - Training Loss: 1.2728 - Validation Loss: 1.3428 - Validation Accuracy: 0.4554\n",
            "Epoch 4/5 - Training Loss: 1.1384 - Validation Loss: 1.4364 - Validation Accuracy: 0.4392\n",
            "Epoch 5/5 - Training Loss: 0.8829 - Validation Loss: 1.6958 - Validation Accuracy: 0.3793\n",
            "Training completed.\n"
          ]
        }
      ],
      "source": [
        "train('onlyD','train_D.csv','validation_D.csv')"
      ]
    },
    {
      "cell_type": "code",
      "execution_count": null,
      "metadata": {
        "colab": {
          "base_uri": "https://localhost:8080/"
        },
        "id": "mC0ldoIHk2Qb",
        "outputId": "fd5539c6-82f9-40a2-9dbc-251b80fe2482"
      },
      "outputs": [
        {
          "output_type": "stream",
          "name": "stderr",
          "text": [
            "Some weights of the model checkpoint at distilbert-base-uncased were not used when initializing DistilBertForSequenceClassification: ['vocab_transform.bias', 'vocab_layer_norm.bias', 'vocab_layer_norm.weight', 'vocab_transform.weight', 'vocab_projector.bias']\n",
            "- This IS expected if you are initializing DistilBertForSequenceClassification from the checkpoint of a model trained on another task or with another architecture (e.g. initializing a BertForSequenceClassification model from a BertForPreTraining model).\n",
            "- This IS NOT expected if you are initializing DistilBertForSequenceClassification from the checkpoint of a model that you expect to be exactly identical (initializing a BertForSequenceClassification model from a BertForSequenceClassification model).\n",
            "Some weights of DistilBertForSequenceClassification were not initialized from the model checkpoint at distilbert-base-uncased and are newly initialized: ['classifier.bias', 'classifier.weight', 'pre_classifier.weight', 'pre_classifier.bias']\n",
            "You should probably TRAIN this model on a down-stream task to be able to use it for predictions and inference.\n",
            "/usr/local/lib/python3.10/dist-packages/transformers/optimization.py:411: FutureWarning: This implementation of AdamW is deprecated and will be removed in a future version. Use the PyTorch implementation torch.optim.AdamW instead, or set `no_deprecation_warning=True` to disable this warning\n",
            "  warnings.warn(\n"
          ]
        },
        {
          "output_type": "stream",
          "name": "stdout",
          "text": [
            "Test Loss: 1.3037 - Test Accuracy: 0.4595\n"
          ]
        }
      ],
      "source": [
        "test('onlyD','test_D.csv')"
      ]
    },
    {
      "cell_type": "code",
      "execution_count": null,
      "metadata": {
        "colab": {
          "base_uri": "https://localhost:8080/"
        },
        "id": "HOh0GlfCM-eg",
        "outputId": "cafaac41-85de-4ee4-cf6c-54b8d657b54e"
      },
      "outputs": [
        {
          "output_type": "stream",
          "name": "stderr",
          "text": [
            "Some weights of the model checkpoint at distilbert-base-uncased were not used when initializing DistilBertForSequenceClassification: ['vocab_transform.bias', 'vocab_layer_norm.bias', 'vocab_layer_norm.weight', 'vocab_transform.weight', 'vocab_projector.bias']\n",
            "- This IS expected if you are initializing DistilBertForSequenceClassification from the checkpoint of a model trained on another task or with another architecture (e.g. initializing a BertForSequenceClassification model from a BertForPreTraining model).\n",
            "- This IS NOT expected if you are initializing DistilBertForSequenceClassification from the checkpoint of a model that you expect to be exactly identical (initializing a BertForSequenceClassification model from a BertForSequenceClassification model).\n",
            "Some weights of DistilBertForSequenceClassification were not initialized from the model checkpoint at distilbert-base-uncased and are newly initialized: ['classifier.bias', 'classifier.weight', 'pre_classifier.weight', 'pre_classifier.bias']\n",
            "You should probably TRAIN this model on a down-stream task to be able to use it for predictions and inference.\n",
            "/usr/local/lib/python3.10/dist-packages/transformers/optimization.py:411: FutureWarning: This implementation of AdamW is deprecated and will be removed in a future version. Use the PyTorch implementation torch.optim.AdamW instead, or set `no_deprecation_warning=True` to disable this warning\n",
            "  warnings.warn(\n"
          ]
        },
        {
          "output_type": "stream",
          "name": "stdout",
          "text": [
            "Start training...\n",
            "Epoch 1/5 - Training Loss: 1.2818 - Validation Loss: 1.2871 - Validation Accuracy: 0.5359\n",
            "Saved the best model!\n",
            "Epoch 2/5 - Training Loss: 1.2032 - Validation Loss: 1.2470 - Validation Accuracy: 0.5385\n",
            "Saved the best model!\n",
            "Epoch 3/5 - Training Loss: 1.1329 - Validation Loss: 1.2431 - Validation Accuracy: 0.5435\n",
            "Saved the best model!\n",
            "Epoch 4/5 - Training Loss: 0.9635 - Validation Loss: 1.3230 - Validation Accuracy: 0.5170\n",
            "Epoch 5/5 - Training Loss: 0.7613 - Validation Loss: 1.4283 - Validation Accuracy: 0.5183\n",
            "Training completed.\n"
          ]
        }
      ],
      "source": [
        "train('onlyB','train_B.csv','validation_B.csv')"
      ]
    },
    {
      "cell_type": "code",
      "execution_count": null,
      "metadata": {
        "colab": {
          "base_uri": "https://localhost:8080/"
        },
        "id": "iZS8aeKNT_5d",
        "outputId": "877a0e97-cba4-4548-a8f3-731f83c60de2"
      },
      "outputs": [
        {
          "output_type": "stream",
          "name": "stderr",
          "text": [
            "Some weights of the model checkpoint at distilbert-base-uncased were not used when initializing DistilBertForSequenceClassification: ['vocab_transform.bias', 'vocab_layer_norm.bias', 'vocab_layer_norm.weight', 'vocab_transform.weight', 'vocab_projector.bias']\n",
            "- This IS expected if you are initializing DistilBertForSequenceClassification from the checkpoint of a model trained on another task or with another architecture (e.g. initializing a BertForSequenceClassification model from a BertForPreTraining model).\n",
            "- This IS NOT expected if you are initializing DistilBertForSequenceClassification from the checkpoint of a model that you expect to be exactly identical (initializing a BertForSequenceClassification model from a BertForSequenceClassification model).\n",
            "Some weights of DistilBertForSequenceClassification were not initialized from the model checkpoint at distilbert-base-uncased and are newly initialized: ['classifier.bias', 'classifier.weight', 'pre_classifier.weight', 'pre_classifier.bias']\n",
            "You should probably TRAIN this model on a down-stream task to be able to use it for predictions and inference.\n",
            "/usr/local/lib/python3.10/dist-packages/transformers/optimization.py:411: FutureWarning: This implementation of AdamW is deprecated and will be removed in a future version. Use the PyTorch implementation torch.optim.AdamW instead, or set `no_deprecation_warning=True` to disable this warning\n",
            "  warnings.warn(\n"
          ]
        },
        {
          "output_type": "stream",
          "name": "stdout",
          "text": [
            "Test Loss: 1.2264 - Test Accuracy: 0.5498\n"
          ]
        }
      ],
      "source": [
        "test('onlyB','test_B.csv')"
      ]
    },
    {
      "cell_type": "code",
      "execution_count": null,
      "metadata": {
        "colab": {
          "base_uri": "https://localhost:8080/"
        },
        "id": "JMYzewSFUGfy",
        "outputId": "b6b96224-e328-4fe6-a5c2-b5e9cace2857"
      },
      "outputs": [
        {
          "output_type": "stream",
          "name": "stderr",
          "text": [
            "Some weights of the model checkpoint at distilbert-base-uncased were not used when initializing DistilBertForSequenceClassification: ['vocab_transform.bias', 'vocab_layer_norm.bias', 'vocab_layer_norm.weight', 'vocab_transform.weight', 'vocab_projector.bias']\n",
            "- This IS expected if you are initializing DistilBertForSequenceClassification from the checkpoint of a model trained on another task or with another architecture (e.g. initializing a BertForSequenceClassification model from a BertForPreTraining model).\n",
            "- This IS NOT expected if you are initializing DistilBertForSequenceClassification from the checkpoint of a model that you expect to be exactly identical (initializing a BertForSequenceClassification model from a BertForSequenceClassification model).\n",
            "Some weights of DistilBertForSequenceClassification were not initialized from the model checkpoint at distilbert-base-uncased and are newly initialized: ['classifier.bias', 'classifier.weight', 'pre_classifier.weight', 'pre_classifier.bias']\n",
            "You should probably TRAIN this model on a down-stream task to be able to use it for predictions and inference.\n",
            "/usr/local/lib/python3.10/dist-packages/transformers/optimization.py:411: FutureWarning: This implementation of AdamW is deprecated and will be removed in a future version. Use the PyTorch implementation torch.optim.AdamW instead, or set `no_deprecation_warning=True` to disable this warning\n",
            "  warnings.warn(\n"
          ]
        },
        {
          "output_type": "stream",
          "name": "stdout",
          "text": [
            "Test Loss: 1.4389 - Test Accuracy: 0.3619\n"
          ]
        }
      ],
      "source": [
        "test('onlyD','test_B.csv')"
      ]
    },
    {
      "cell_type": "code",
      "execution_count": null,
      "metadata": {
        "colab": {
          "base_uri": "https://localhost:8080/"
        },
        "id": "POvpiu5FX2PE",
        "outputId": "9c3d4a5e-0201-4bdb-bbaa-541104cbb80f"
      },
      "outputs": [
        {
          "output_type": "stream",
          "name": "stderr",
          "text": [
            "Some weights of the model checkpoint at distilbert-base-uncased were not used when initializing DistilBertForSequenceClassification: ['vocab_transform.bias', 'vocab_layer_norm.bias', 'vocab_layer_norm.weight', 'vocab_transform.weight', 'vocab_projector.bias']\n",
            "- This IS expected if you are initializing DistilBertForSequenceClassification from the checkpoint of a model trained on another task or with another architecture (e.g. initializing a BertForSequenceClassification model from a BertForPreTraining model).\n",
            "- This IS NOT expected if you are initializing DistilBertForSequenceClassification from the checkpoint of a model that you expect to be exactly identical (initializing a BertForSequenceClassification model from a BertForSequenceClassification model).\n",
            "Some weights of DistilBertForSequenceClassification were not initialized from the model checkpoint at distilbert-base-uncased and are newly initialized: ['classifier.bias', 'classifier.weight', 'pre_classifier.weight', 'pre_classifier.bias']\n",
            "You should probably TRAIN this model on a down-stream task to be able to use it for predictions and inference.\n",
            "/usr/local/lib/python3.10/dist-packages/transformers/optimization.py:411: FutureWarning: This implementation of AdamW is deprecated and will be removed in a future version. Use the PyTorch implementation torch.optim.AdamW instead, or set `no_deprecation_warning=True` to disable this warning\n",
            "  warnings.warn(\n"
          ]
        },
        {
          "output_type": "stream",
          "name": "stdout",
          "text": [
            "Start training...\n",
            "Epoch 1/5 - Training Loss: 1.3156 - Validation Loss: 1.2692 - Validation Accuracy: 0.4728\n",
            "Saved the best model!\n",
            "Epoch 2/5 - Training Loss: 1.2434 - Validation Loss: 1.2569 - Validation Accuracy: 0.4692\n",
            "Saved the best model!\n",
            "Epoch 3/5 - Training Loss: 1.1573 - Validation Loss: 1.2734 - Validation Accuracy: 0.4880\n",
            "Epoch 4/5 - Training Loss: 0.9896 - Validation Loss: 1.3588 - Validation Accuracy: 0.4612\n",
            "Epoch 5/5 - Training Loss: 0.7817 - Validation Loss: 1.5156 - Validation Accuracy: 0.4389\n",
            "Training completed.\n"
          ]
        }
      ],
      "source": [
        "train('onlyAD','train_A_D.csv','validation_A_D.csv')"
      ]
    },
    {
      "cell_type": "code",
      "execution_count": null,
      "metadata": {
        "colab": {
          "base_uri": "https://localhost:8080/"
        },
        "id": "gwJI8NItNF72",
        "outputId": "7f007b06-6825-415c-da64-b1fc17d2817d"
      },
      "outputs": [
        {
          "output_type": "stream",
          "name": "stderr",
          "text": [
            "Some weights of the model checkpoint at distilbert-base-uncased were not used when initializing DistilBertForSequenceClassification: ['vocab_transform.bias', 'vocab_layer_norm.bias', 'vocab_layer_norm.weight', 'vocab_transform.weight', 'vocab_projector.bias']\n",
            "- This IS expected if you are initializing DistilBertForSequenceClassification from the checkpoint of a model trained on another task or with another architecture (e.g. initializing a BertForSequenceClassification model from a BertForPreTraining model).\n",
            "- This IS NOT expected if you are initializing DistilBertForSequenceClassification from the checkpoint of a model that you expect to be exactly identical (initializing a BertForSequenceClassification model from a BertForSequenceClassification model).\n",
            "Some weights of DistilBertForSequenceClassification were not initialized from the model checkpoint at distilbert-base-uncased and are newly initialized: ['classifier.bias', 'classifier.weight', 'pre_classifier.weight', 'pre_classifier.bias']\n",
            "You should probably TRAIN this model on a down-stream task to be able to use it for predictions and inference.\n",
            "/usr/local/lib/python3.10/dist-packages/transformers/optimization.py:411: FutureWarning: This implementation of AdamW is deprecated and will be removed in a future version. Use the PyTorch implementation torch.optim.AdamW instead, or set `no_deprecation_warning=True` to disable this warning\n",
            "  warnings.warn(\n"
          ]
        },
        {
          "output_type": "stream",
          "name": "stdout",
          "text": [
            "Test Loss: 1.2764 - Test Accuracy: 0.4676\n"
          ]
        }
      ],
      "source": [
        "test('onlyAD','test_D.csv')"
      ]
    },
    {
      "cell_type": "code",
      "execution_count": null,
      "metadata": {
        "colab": {
          "base_uri": "https://localhost:8080/"
        },
        "id": "qDTv0_BKNF4f",
        "outputId": "a0185ecd-db39-4e3d-8a3f-96d72785baeb"
      },
      "outputs": [
        {
          "output_type": "stream",
          "name": "stderr",
          "text": [
            "Some weights of the model checkpoint at distilbert-base-uncased were not used when initializing DistilBertForSequenceClassification: ['vocab_transform.bias', 'vocab_layer_norm.bias', 'vocab_layer_norm.weight', 'vocab_transform.weight', 'vocab_projector.bias']\n",
            "- This IS expected if you are initializing DistilBertForSequenceClassification from the checkpoint of a model trained on another task or with another architecture (e.g. initializing a BertForSequenceClassification model from a BertForPreTraining model).\n",
            "- This IS NOT expected if you are initializing DistilBertForSequenceClassification from the checkpoint of a model that you expect to be exactly identical (initializing a BertForSequenceClassification model from a BertForSequenceClassification model).\n",
            "Some weights of DistilBertForSequenceClassification were not initialized from the model checkpoint at distilbert-base-uncased and are newly initialized: ['classifier.bias', 'classifier.weight', 'pre_classifier.weight', 'pre_classifier.bias']\n",
            "You should probably TRAIN this model on a down-stream task to be able to use it for predictions and inference.\n",
            "/usr/local/lib/python3.10/dist-packages/transformers/optimization.py:411: FutureWarning: This implementation of AdamW is deprecated and will be removed in a future version. Use the PyTorch implementation torch.optim.AdamW instead, or set `no_deprecation_warning=True` to disable this warning\n",
            "  warnings.warn(\n"
          ]
        },
        {
          "output_type": "stream",
          "name": "stdout",
          "text": [
            "Test Loss: 1.2708 - Test Accuracy: 0.5233\n"
          ]
        }
      ],
      "source": [
        "test('onlyAD','test_B.csv')"
      ]
    },
    {
      "cell_type": "code",
      "execution_count": null,
      "metadata": {
        "colab": {
          "base_uri": "https://localhost:8080/"
        },
        "id": "WvrmSsxsNJbS",
        "outputId": "4d641143-0da0-4612-a44f-84264030d39e"
      },
      "outputs": [
        {
          "output_type": "stream",
          "name": "stderr",
          "text": [
            "Some weights of the model checkpoint at distilbert-base-uncased were not used when initializing DistilBertForSequenceClassification: ['vocab_transform.bias', 'vocab_layer_norm.bias', 'vocab_layer_norm.weight', 'vocab_transform.weight', 'vocab_projector.bias']\n",
            "- This IS expected if you are initializing DistilBertForSequenceClassification from the checkpoint of a model trained on another task or with another architecture (e.g. initializing a BertForSequenceClassification model from a BertForPreTraining model).\n",
            "- This IS NOT expected if you are initializing DistilBertForSequenceClassification from the checkpoint of a model that you expect to be exactly identical (initializing a BertForSequenceClassification model from a BertForSequenceClassification model).\n",
            "Some weights of DistilBertForSequenceClassification were not initialized from the model checkpoint at distilbert-base-uncased and are newly initialized: ['classifier.bias', 'classifier.weight', 'pre_classifier.weight', 'pre_classifier.bias']\n",
            "You should probably TRAIN this model on a down-stream task to be able to use it for predictions and inference.\n",
            "/usr/local/lib/python3.10/dist-packages/transformers/optimization.py:411: FutureWarning: This implementation of AdamW is deprecated and will be removed in a future version. Use the PyTorch implementation torch.optim.AdamW instead, or set `no_deprecation_warning=True` to disable this warning\n",
            "  warnings.warn(\n"
          ]
        },
        {
          "output_type": "stream",
          "name": "stdout",
          "text": [
            "Test Loss: 1.2577 - Test Accuracy: 0.5076\n"
          ]
        }
      ],
      "source": [
        "test('onlyAD','test_A_D.csv')"
      ]
    },
    {
      "cell_type": "code",
      "execution_count": null,
      "metadata": {
        "colab": {
          "base_uri": "https://localhost:8080/"
        },
        "id": "WxAaK99BX2BN",
        "outputId": "1db3f7ab-b2a2-43df-a9e0-cd072dacf13a"
      },
      "outputs": [
        {
          "output_type": "stream",
          "name": "stderr",
          "text": [
            "Some weights of the model checkpoint at distilbert-base-uncased were not used when initializing DistilBertForSequenceClassification: ['vocab_transform.bias', 'vocab_layer_norm.bias', 'vocab_layer_norm.weight', 'vocab_transform.weight', 'vocab_projector.bias']\n",
            "- This IS expected if you are initializing DistilBertForSequenceClassification from the checkpoint of a model trained on another task or with another architecture (e.g. initializing a BertForSequenceClassification model from a BertForPreTraining model).\n",
            "- This IS NOT expected if you are initializing DistilBertForSequenceClassification from the checkpoint of a model that you expect to be exactly identical (initializing a BertForSequenceClassification model from a BertForSequenceClassification model).\n",
            "Some weights of DistilBertForSequenceClassification were not initialized from the model checkpoint at distilbert-base-uncased and are newly initialized: ['classifier.bias', 'classifier.weight', 'pre_classifier.weight', 'pre_classifier.bias']\n",
            "You should probably TRAIN this model on a down-stream task to be able to use it for predictions and inference.\n",
            "/usr/local/lib/python3.10/dist-packages/transformers/optimization.py:411: FutureWarning: This implementation of AdamW is deprecated and will be removed in a future version. Use the PyTorch implementation torch.optim.AdamW instead, or set `no_deprecation_warning=True` to disable this warning\n",
            "  warnings.warn(\n"
          ]
        },
        {
          "output_type": "stream",
          "name": "stdout",
          "text": [
            "Start training...\n",
            "Epoch 1/5 - Training Loss: 1.3192 - Validation Loss: 1.3285 - Validation Accuracy: 0.4769\n",
            "Saved the best model!\n",
            "Epoch 2/5 - Training Loss: 1.2557 - Validation Loss: 1.2938 - Validation Accuracy: 0.4734\n",
            "Saved the best model!\n",
            "Epoch 3/5 - Training Loss: 1.1483 - Validation Loss: 1.2792 - Validation Accuracy: 0.4848\n",
            "Saved the best model!\n",
            "Epoch 4/5 - Training Loss: 0.9734 - Validation Loss: 1.3176 - Validation Accuracy: 0.4856\n",
            "Epoch 5/5 - Training Loss: 0.8025 - Validation Loss: 1.4195 - Validation Accuracy: 0.4935\n",
            "Training completed.\n"
          ]
        }
      ],
      "source": [
        "train('all','train_all.csv','validation_all.csv')"
      ]
    },
    {
      "cell_type": "code",
      "execution_count": null,
      "metadata": {
        "colab": {
          "base_uri": "https://localhost:8080/"
        },
        "id": "t46sB6CnYpnF",
        "outputId": "2be01b9c-32af-4e83-a8fd-8395f0d44834"
      },
      "outputs": [
        {
          "output_type": "stream",
          "name": "stderr",
          "text": [
            "Some weights of the model checkpoint at distilbert-base-uncased were not used when initializing DistilBertForSequenceClassification: ['vocab_transform.bias', 'vocab_layer_norm.bias', 'vocab_layer_norm.weight', 'vocab_transform.weight', 'vocab_projector.bias']\n",
            "- This IS expected if you are initializing DistilBertForSequenceClassification from the checkpoint of a model trained on another task or with another architecture (e.g. initializing a BertForSequenceClassification model from a BertForPreTraining model).\n",
            "- This IS NOT expected if you are initializing DistilBertForSequenceClassification from the checkpoint of a model that you expect to be exactly identical (initializing a BertForSequenceClassification model from a BertForSequenceClassification model).\n",
            "Some weights of DistilBertForSequenceClassification were not initialized from the model checkpoint at distilbert-base-uncased and are newly initialized: ['classifier.bias', 'classifier.weight', 'pre_classifier.weight', 'pre_classifier.bias']\n",
            "You should probably TRAIN this model on a down-stream task to be able to use it for predictions and inference.\n",
            "/usr/local/lib/python3.10/dist-packages/transformers/optimization.py:411: FutureWarning: This implementation of AdamW is deprecated and will be removed in a future version. Use the PyTorch implementation torch.optim.AdamW instead, or set `no_deprecation_warning=True` to disable this warning\n",
            "  warnings.warn(\n"
          ]
        },
        {
          "output_type": "stream",
          "name": "stdout",
          "text": [
            "Test Loss: 1.1954 - Test Accuracy: 0.4854\n"
          ]
        }
      ],
      "source": [
        "test('all','test_D.csv')"
      ]
    },
    {
      "cell_type": "code",
      "execution_count": null,
      "metadata": {
        "colab": {
          "base_uri": "https://localhost:8080/"
        },
        "id": "ZM3CoaTvNL6y",
        "outputId": "9c7e8e08-a6c7-40c0-a3ee-85f31382e227"
      },
      "outputs": [
        {
          "output_type": "stream",
          "name": "stderr",
          "text": [
            "Some weights of the model checkpoint at distilbert-base-uncased were not used when initializing DistilBertForSequenceClassification: ['vocab_transform.bias', 'vocab_layer_norm.bias', 'vocab_layer_norm.weight', 'vocab_transform.weight', 'vocab_projector.bias']\n",
            "- This IS expected if you are initializing DistilBertForSequenceClassification from the checkpoint of a model trained on another task or with another architecture (e.g. initializing a BertForSequenceClassification model from a BertForPreTraining model).\n",
            "- This IS NOT expected if you are initializing DistilBertForSequenceClassification from the checkpoint of a model that you expect to be exactly identical (initializing a BertForSequenceClassification model from a BertForSequenceClassification model).\n",
            "Some weights of DistilBertForSequenceClassification were not initialized from the model checkpoint at distilbert-base-uncased and are newly initialized: ['classifier.bias', 'classifier.weight', 'pre_classifier.weight', 'pre_classifier.bias']\n",
            "You should probably TRAIN this model on a down-stream task to be able to use it for predictions and inference.\n",
            "/usr/local/lib/python3.10/dist-packages/transformers/optimization.py:411: FutureWarning: This implementation of AdamW is deprecated and will be removed in a future version. Use the PyTorch implementation torch.optim.AdamW instead, or set `no_deprecation_warning=True` to disable this warning\n",
            "  warnings.warn(\n"
          ]
        },
        {
          "output_type": "stream",
          "name": "stdout",
          "text": [
            "Test Loss: 1.2853 - Test Accuracy: 0.4899\n"
          ]
        }
      ],
      "source": [
        "test('all','test_all.csv')"
      ]
    }
  ],
  "metadata": {
    "accelerator": "GPU",
    "colab": {
      "provenance": []
    },
    "gpuClass": "standard",
    "kernelspec": {
      "display_name": "Python 3",
      "name": "python3"
    },
    "language_info": {
      "name": "python"
    },
    "widgets": {
      "application/vnd.jupyter.widget-state+json": {
        "7337e07454494a8d9712e23b1ed82067": {
          "model_module": "@jupyter-widgets/controls",
          "model_name": "HBoxModel",
          "model_module_version": "1.5.0",
          "state": {
            "_dom_classes": [],
            "_model_module": "@jupyter-widgets/controls",
            "_model_module_version": "1.5.0",
            "_model_name": "HBoxModel",
            "_view_count": null,
            "_view_module": "@jupyter-widgets/controls",
            "_view_module_version": "1.5.0",
            "_view_name": "HBoxView",
            "box_style": "",
            "children": [
              "IPY_MODEL_9849ab3c2a0d4bf4bafea6ed30398f73",
              "IPY_MODEL_3c17bbfad31c4df88bec859bbe4982a4",
              "IPY_MODEL_ffaff838ec6d42aebefa50f881aca5e1"
            ],
            "layout": "IPY_MODEL_a1c5aec5920d4ed4a197e156a3d439ab"
          }
        },
        "9849ab3c2a0d4bf4bafea6ed30398f73": {
          "model_module": "@jupyter-widgets/controls",
          "model_name": "HTMLModel",
          "model_module_version": "1.5.0",
          "state": {
            "_dom_classes": [],
            "_model_module": "@jupyter-widgets/controls",
            "_model_module_version": "1.5.0",
            "_model_name": "HTMLModel",
            "_view_count": null,
            "_view_module": "@jupyter-widgets/controls",
            "_view_module_version": "1.5.0",
            "_view_name": "HTMLView",
            "description": "",
            "description_tooltip": null,
            "layout": "IPY_MODEL_d968d09976b24709909addf547b94b20",
            "placeholder": "​",
            "style": "IPY_MODEL_bf768193beee4b1aa41c3194210b05d0",
            "value": "Downloading (…)solve/main/vocab.txt: 100%"
          }
        },
        "3c17bbfad31c4df88bec859bbe4982a4": {
          "model_module": "@jupyter-widgets/controls",
          "model_name": "FloatProgressModel",
          "model_module_version": "1.5.0",
          "state": {
            "_dom_classes": [],
            "_model_module": "@jupyter-widgets/controls",
            "_model_module_version": "1.5.0",
            "_model_name": "FloatProgressModel",
            "_view_count": null,
            "_view_module": "@jupyter-widgets/controls",
            "_view_module_version": "1.5.0",
            "_view_name": "ProgressView",
            "bar_style": "success",
            "description": "",
            "description_tooltip": null,
            "layout": "IPY_MODEL_4bca2e29af4e42cc895bda0b7198f519",
            "max": 231508,
            "min": 0,
            "orientation": "horizontal",
            "style": "IPY_MODEL_5239337e10c34deaa7f4e0d3dab0785d",
            "value": 231508
          }
        },
        "ffaff838ec6d42aebefa50f881aca5e1": {
          "model_module": "@jupyter-widgets/controls",
          "model_name": "HTMLModel",
          "model_module_version": "1.5.0",
          "state": {
            "_dom_classes": [],
            "_model_module": "@jupyter-widgets/controls",
            "_model_module_version": "1.5.0",
            "_model_name": "HTMLModel",
            "_view_count": null,
            "_view_module": "@jupyter-widgets/controls",
            "_view_module_version": "1.5.0",
            "_view_name": "HTMLView",
            "description": "",
            "description_tooltip": null,
            "layout": "IPY_MODEL_d01adcc282e84e6ca5af2727de07cd9b",
            "placeholder": "​",
            "style": "IPY_MODEL_459005d301084b40becd49d0baf99901",
            "value": " 232k/232k [00:00&lt;00:00, 2.80MB/s]"
          }
        },
        "a1c5aec5920d4ed4a197e156a3d439ab": {
          "model_module": "@jupyter-widgets/base",
          "model_name": "LayoutModel",
          "model_module_version": "1.2.0",
          "state": {
            "_model_module": "@jupyter-widgets/base",
            "_model_module_version": "1.2.0",
            "_model_name": "LayoutModel",
            "_view_count": null,
            "_view_module": "@jupyter-widgets/base",
            "_view_module_version": "1.2.0",
            "_view_name": "LayoutView",
            "align_content": null,
            "align_items": null,
            "align_self": null,
            "border": null,
            "bottom": null,
            "display": null,
            "flex": null,
            "flex_flow": null,
            "grid_area": null,
            "grid_auto_columns": null,
            "grid_auto_flow": null,
            "grid_auto_rows": null,
            "grid_column": null,
            "grid_gap": null,
            "grid_row": null,
            "grid_template_areas": null,
            "grid_template_columns": null,
            "grid_template_rows": null,
            "height": null,
            "justify_content": null,
            "justify_items": null,
            "left": null,
            "margin": null,
            "max_height": null,
            "max_width": null,
            "min_height": null,
            "min_width": null,
            "object_fit": null,
            "object_position": null,
            "order": null,
            "overflow": null,
            "overflow_x": null,
            "overflow_y": null,
            "padding": null,
            "right": null,
            "top": null,
            "visibility": null,
            "width": null
          }
        },
        "d968d09976b24709909addf547b94b20": {
          "model_module": "@jupyter-widgets/base",
          "model_name": "LayoutModel",
          "model_module_version": "1.2.0",
          "state": {
            "_model_module": "@jupyter-widgets/base",
            "_model_module_version": "1.2.0",
            "_model_name": "LayoutModel",
            "_view_count": null,
            "_view_module": "@jupyter-widgets/base",
            "_view_module_version": "1.2.0",
            "_view_name": "LayoutView",
            "align_content": null,
            "align_items": null,
            "align_self": null,
            "border": null,
            "bottom": null,
            "display": null,
            "flex": null,
            "flex_flow": null,
            "grid_area": null,
            "grid_auto_columns": null,
            "grid_auto_flow": null,
            "grid_auto_rows": null,
            "grid_column": null,
            "grid_gap": null,
            "grid_row": null,
            "grid_template_areas": null,
            "grid_template_columns": null,
            "grid_template_rows": null,
            "height": null,
            "justify_content": null,
            "justify_items": null,
            "left": null,
            "margin": null,
            "max_height": null,
            "max_width": null,
            "min_height": null,
            "min_width": null,
            "object_fit": null,
            "object_position": null,
            "order": null,
            "overflow": null,
            "overflow_x": null,
            "overflow_y": null,
            "padding": null,
            "right": null,
            "top": null,
            "visibility": null,
            "width": null
          }
        },
        "bf768193beee4b1aa41c3194210b05d0": {
          "model_module": "@jupyter-widgets/controls",
          "model_name": "DescriptionStyleModel",
          "model_module_version": "1.5.0",
          "state": {
            "_model_module": "@jupyter-widgets/controls",
            "_model_module_version": "1.5.0",
            "_model_name": "DescriptionStyleModel",
            "_view_count": null,
            "_view_module": "@jupyter-widgets/base",
            "_view_module_version": "1.2.0",
            "_view_name": "StyleView",
            "description_width": ""
          }
        },
        "4bca2e29af4e42cc895bda0b7198f519": {
          "model_module": "@jupyter-widgets/base",
          "model_name": "LayoutModel",
          "model_module_version": "1.2.0",
          "state": {
            "_model_module": "@jupyter-widgets/base",
            "_model_module_version": "1.2.0",
            "_model_name": "LayoutModel",
            "_view_count": null,
            "_view_module": "@jupyter-widgets/base",
            "_view_module_version": "1.2.0",
            "_view_name": "LayoutView",
            "align_content": null,
            "align_items": null,
            "align_self": null,
            "border": null,
            "bottom": null,
            "display": null,
            "flex": null,
            "flex_flow": null,
            "grid_area": null,
            "grid_auto_columns": null,
            "grid_auto_flow": null,
            "grid_auto_rows": null,
            "grid_column": null,
            "grid_gap": null,
            "grid_row": null,
            "grid_template_areas": null,
            "grid_template_columns": null,
            "grid_template_rows": null,
            "height": null,
            "justify_content": null,
            "justify_items": null,
            "left": null,
            "margin": null,
            "max_height": null,
            "max_width": null,
            "min_height": null,
            "min_width": null,
            "object_fit": null,
            "object_position": null,
            "order": null,
            "overflow": null,
            "overflow_x": null,
            "overflow_y": null,
            "padding": null,
            "right": null,
            "top": null,
            "visibility": null,
            "width": null
          }
        },
        "5239337e10c34deaa7f4e0d3dab0785d": {
          "model_module": "@jupyter-widgets/controls",
          "model_name": "ProgressStyleModel",
          "model_module_version": "1.5.0",
          "state": {
            "_model_module": "@jupyter-widgets/controls",
            "_model_module_version": "1.5.0",
            "_model_name": "ProgressStyleModel",
            "_view_count": null,
            "_view_module": "@jupyter-widgets/base",
            "_view_module_version": "1.2.0",
            "_view_name": "StyleView",
            "bar_color": null,
            "description_width": ""
          }
        },
        "d01adcc282e84e6ca5af2727de07cd9b": {
          "model_module": "@jupyter-widgets/base",
          "model_name": "LayoutModel",
          "model_module_version": "1.2.0",
          "state": {
            "_model_module": "@jupyter-widgets/base",
            "_model_module_version": "1.2.0",
            "_model_name": "LayoutModel",
            "_view_count": null,
            "_view_module": "@jupyter-widgets/base",
            "_view_module_version": "1.2.0",
            "_view_name": "LayoutView",
            "align_content": null,
            "align_items": null,
            "align_self": null,
            "border": null,
            "bottom": null,
            "display": null,
            "flex": null,
            "flex_flow": null,
            "grid_area": null,
            "grid_auto_columns": null,
            "grid_auto_flow": null,
            "grid_auto_rows": null,
            "grid_column": null,
            "grid_gap": null,
            "grid_row": null,
            "grid_template_areas": null,
            "grid_template_columns": null,
            "grid_template_rows": null,
            "height": null,
            "justify_content": null,
            "justify_items": null,
            "left": null,
            "margin": null,
            "max_height": null,
            "max_width": null,
            "min_height": null,
            "min_width": null,
            "object_fit": null,
            "object_position": null,
            "order": null,
            "overflow": null,
            "overflow_x": null,
            "overflow_y": null,
            "padding": null,
            "right": null,
            "top": null,
            "visibility": null,
            "width": null
          }
        },
        "459005d301084b40becd49d0baf99901": {
          "model_module": "@jupyter-widgets/controls",
          "model_name": "DescriptionStyleModel",
          "model_module_version": "1.5.0",
          "state": {
            "_model_module": "@jupyter-widgets/controls",
            "_model_module_version": "1.5.0",
            "_model_name": "DescriptionStyleModel",
            "_view_count": null,
            "_view_module": "@jupyter-widgets/base",
            "_view_module_version": "1.2.0",
            "_view_name": "StyleView",
            "description_width": ""
          }
        },
        "f765a0e1e9074ea5957b66a193c2f343": {
          "model_module": "@jupyter-widgets/controls",
          "model_name": "HBoxModel",
          "model_module_version": "1.5.0",
          "state": {
            "_dom_classes": [],
            "_model_module": "@jupyter-widgets/controls",
            "_model_module_version": "1.5.0",
            "_model_name": "HBoxModel",
            "_view_count": null,
            "_view_module": "@jupyter-widgets/controls",
            "_view_module_version": "1.5.0",
            "_view_name": "HBoxView",
            "box_style": "",
            "children": [
              "IPY_MODEL_8f23dfaa1aa849fbbea98f26e9fad48c",
              "IPY_MODEL_28cd160e4df9419787293c26777cbb95",
              "IPY_MODEL_fd20c535db66472a86a5a1e0015f74a0"
            ],
            "layout": "IPY_MODEL_36c4d6fd2dca463abc6e537c19908277"
          }
        },
        "8f23dfaa1aa849fbbea98f26e9fad48c": {
          "model_module": "@jupyter-widgets/controls",
          "model_name": "HTMLModel",
          "model_module_version": "1.5.0",
          "state": {
            "_dom_classes": [],
            "_model_module": "@jupyter-widgets/controls",
            "_model_module_version": "1.5.0",
            "_model_name": "HTMLModel",
            "_view_count": null,
            "_view_module": "@jupyter-widgets/controls",
            "_view_module_version": "1.5.0",
            "_view_name": "HTMLView",
            "description": "",
            "description_tooltip": null,
            "layout": "IPY_MODEL_af11cf0b0b2e4ba5b267bfadeaf7ec7f",
            "placeholder": "​",
            "style": "IPY_MODEL_7546d69cd06545b49b1f183fc3a89c25",
            "value": "Downloading (…)okenizer_config.json: 100%"
          }
        },
        "28cd160e4df9419787293c26777cbb95": {
          "model_module": "@jupyter-widgets/controls",
          "model_name": "FloatProgressModel",
          "model_module_version": "1.5.0",
          "state": {
            "_dom_classes": [],
            "_model_module": "@jupyter-widgets/controls",
            "_model_module_version": "1.5.0",
            "_model_name": "FloatProgressModel",
            "_view_count": null,
            "_view_module": "@jupyter-widgets/controls",
            "_view_module_version": "1.5.0",
            "_view_name": "ProgressView",
            "bar_style": "success",
            "description": "",
            "description_tooltip": null,
            "layout": "IPY_MODEL_1cacf56d5f0149a5a97dccf53af4819f",
            "max": 28,
            "min": 0,
            "orientation": "horizontal",
            "style": "IPY_MODEL_717768f095c6462c8ded911fd1c9095c",
            "value": 28
          }
        },
        "fd20c535db66472a86a5a1e0015f74a0": {
          "model_module": "@jupyter-widgets/controls",
          "model_name": "HTMLModel",
          "model_module_version": "1.5.0",
          "state": {
            "_dom_classes": [],
            "_model_module": "@jupyter-widgets/controls",
            "_model_module_version": "1.5.0",
            "_model_name": "HTMLModel",
            "_view_count": null,
            "_view_module": "@jupyter-widgets/controls",
            "_view_module_version": "1.5.0",
            "_view_name": "HTMLView",
            "description": "",
            "description_tooltip": null,
            "layout": "IPY_MODEL_f06e5f506be747e79dd5587628835f7e",
            "placeholder": "​",
            "style": "IPY_MODEL_96bf892d09324e2d96bfc31e22510647",
            "value": " 28.0/28.0 [00:00&lt;00:00, 2.09kB/s]"
          }
        },
        "36c4d6fd2dca463abc6e537c19908277": {
          "model_module": "@jupyter-widgets/base",
          "model_name": "LayoutModel",
          "model_module_version": "1.2.0",
          "state": {
            "_model_module": "@jupyter-widgets/base",
            "_model_module_version": "1.2.0",
            "_model_name": "LayoutModel",
            "_view_count": null,
            "_view_module": "@jupyter-widgets/base",
            "_view_module_version": "1.2.0",
            "_view_name": "LayoutView",
            "align_content": null,
            "align_items": null,
            "align_self": null,
            "border": null,
            "bottom": null,
            "display": null,
            "flex": null,
            "flex_flow": null,
            "grid_area": null,
            "grid_auto_columns": null,
            "grid_auto_flow": null,
            "grid_auto_rows": null,
            "grid_column": null,
            "grid_gap": null,
            "grid_row": null,
            "grid_template_areas": null,
            "grid_template_columns": null,
            "grid_template_rows": null,
            "height": null,
            "justify_content": null,
            "justify_items": null,
            "left": null,
            "margin": null,
            "max_height": null,
            "max_width": null,
            "min_height": null,
            "min_width": null,
            "object_fit": null,
            "object_position": null,
            "order": null,
            "overflow": null,
            "overflow_x": null,
            "overflow_y": null,
            "padding": null,
            "right": null,
            "top": null,
            "visibility": null,
            "width": null
          }
        },
        "af11cf0b0b2e4ba5b267bfadeaf7ec7f": {
          "model_module": "@jupyter-widgets/base",
          "model_name": "LayoutModel",
          "model_module_version": "1.2.0",
          "state": {
            "_model_module": "@jupyter-widgets/base",
            "_model_module_version": "1.2.0",
            "_model_name": "LayoutModel",
            "_view_count": null,
            "_view_module": "@jupyter-widgets/base",
            "_view_module_version": "1.2.0",
            "_view_name": "LayoutView",
            "align_content": null,
            "align_items": null,
            "align_self": null,
            "border": null,
            "bottom": null,
            "display": null,
            "flex": null,
            "flex_flow": null,
            "grid_area": null,
            "grid_auto_columns": null,
            "grid_auto_flow": null,
            "grid_auto_rows": null,
            "grid_column": null,
            "grid_gap": null,
            "grid_row": null,
            "grid_template_areas": null,
            "grid_template_columns": null,
            "grid_template_rows": null,
            "height": null,
            "justify_content": null,
            "justify_items": null,
            "left": null,
            "margin": null,
            "max_height": null,
            "max_width": null,
            "min_height": null,
            "min_width": null,
            "object_fit": null,
            "object_position": null,
            "order": null,
            "overflow": null,
            "overflow_x": null,
            "overflow_y": null,
            "padding": null,
            "right": null,
            "top": null,
            "visibility": null,
            "width": null
          }
        },
        "7546d69cd06545b49b1f183fc3a89c25": {
          "model_module": "@jupyter-widgets/controls",
          "model_name": "DescriptionStyleModel",
          "model_module_version": "1.5.0",
          "state": {
            "_model_module": "@jupyter-widgets/controls",
            "_model_module_version": "1.5.0",
            "_model_name": "DescriptionStyleModel",
            "_view_count": null,
            "_view_module": "@jupyter-widgets/base",
            "_view_module_version": "1.2.0",
            "_view_name": "StyleView",
            "description_width": ""
          }
        },
        "1cacf56d5f0149a5a97dccf53af4819f": {
          "model_module": "@jupyter-widgets/base",
          "model_name": "LayoutModel",
          "model_module_version": "1.2.0",
          "state": {
            "_model_module": "@jupyter-widgets/base",
            "_model_module_version": "1.2.0",
            "_model_name": "LayoutModel",
            "_view_count": null,
            "_view_module": "@jupyter-widgets/base",
            "_view_module_version": "1.2.0",
            "_view_name": "LayoutView",
            "align_content": null,
            "align_items": null,
            "align_self": null,
            "border": null,
            "bottom": null,
            "display": null,
            "flex": null,
            "flex_flow": null,
            "grid_area": null,
            "grid_auto_columns": null,
            "grid_auto_flow": null,
            "grid_auto_rows": null,
            "grid_column": null,
            "grid_gap": null,
            "grid_row": null,
            "grid_template_areas": null,
            "grid_template_columns": null,
            "grid_template_rows": null,
            "height": null,
            "justify_content": null,
            "justify_items": null,
            "left": null,
            "margin": null,
            "max_height": null,
            "max_width": null,
            "min_height": null,
            "min_width": null,
            "object_fit": null,
            "object_position": null,
            "order": null,
            "overflow": null,
            "overflow_x": null,
            "overflow_y": null,
            "padding": null,
            "right": null,
            "top": null,
            "visibility": null,
            "width": null
          }
        },
        "717768f095c6462c8ded911fd1c9095c": {
          "model_module": "@jupyter-widgets/controls",
          "model_name": "ProgressStyleModel",
          "model_module_version": "1.5.0",
          "state": {
            "_model_module": "@jupyter-widgets/controls",
            "_model_module_version": "1.5.0",
            "_model_name": "ProgressStyleModel",
            "_view_count": null,
            "_view_module": "@jupyter-widgets/base",
            "_view_module_version": "1.2.0",
            "_view_name": "StyleView",
            "bar_color": null,
            "description_width": ""
          }
        },
        "f06e5f506be747e79dd5587628835f7e": {
          "model_module": "@jupyter-widgets/base",
          "model_name": "LayoutModel",
          "model_module_version": "1.2.0",
          "state": {
            "_model_module": "@jupyter-widgets/base",
            "_model_module_version": "1.2.0",
            "_model_name": "LayoutModel",
            "_view_count": null,
            "_view_module": "@jupyter-widgets/base",
            "_view_module_version": "1.2.0",
            "_view_name": "LayoutView",
            "align_content": null,
            "align_items": null,
            "align_self": null,
            "border": null,
            "bottom": null,
            "display": null,
            "flex": null,
            "flex_flow": null,
            "grid_area": null,
            "grid_auto_columns": null,
            "grid_auto_flow": null,
            "grid_auto_rows": null,
            "grid_column": null,
            "grid_gap": null,
            "grid_row": null,
            "grid_template_areas": null,
            "grid_template_columns": null,
            "grid_template_rows": null,
            "height": null,
            "justify_content": null,
            "justify_items": null,
            "left": null,
            "margin": null,
            "max_height": null,
            "max_width": null,
            "min_height": null,
            "min_width": null,
            "object_fit": null,
            "object_position": null,
            "order": null,
            "overflow": null,
            "overflow_x": null,
            "overflow_y": null,
            "padding": null,
            "right": null,
            "top": null,
            "visibility": null,
            "width": null
          }
        },
        "96bf892d09324e2d96bfc31e22510647": {
          "model_module": "@jupyter-widgets/controls",
          "model_name": "DescriptionStyleModel",
          "model_module_version": "1.5.0",
          "state": {
            "_model_module": "@jupyter-widgets/controls",
            "_model_module_version": "1.5.0",
            "_model_name": "DescriptionStyleModel",
            "_view_count": null,
            "_view_module": "@jupyter-widgets/base",
            "_view_module_version": "1.2.0",
            "_view_name": "StyleView",
            "description_width": ""
          }
        },
        "719d3d47e84843a18fbbc37f9a93453b": {
          "model_module": "@jupyter-widgets/controls",
          "model_name": "HBoxModel",
          "model_module_version": "1.5.0",
          "state": {
            "_dom_classes": [],
            "_model_module": "@jupyter-widgets/controls",
            "_model_module_version": "1.5.0",
            "_model_name": "HBoxModel",
            "_view_count": null,
            "_view_module": "@jupyter-widgets/controls",
            "_view_module_version": "1.5.0",
            "_view_name": "HBoxView",
            "box_style": "",
            "children": [
              "IPY_MODEL_ef5be1ff846a483297c3343f57167df7",
              "IPY_MODEL_f801ce2696cc4cd9aa5aac2b6bf3ff1b",
              "IPY_MODEL_74d08b6a864647a1a6e083ec8e2e714a"
            ],
            "layout": "IPY_MODEL_c11c1b2475d64c01914d5fceb42c7c8c"
          }
        },
        "ef5be1ff846a483297c3343f57167df7": {
          "model_module": "@jupyter-widgets/controls",
          "model_name": "HTMLModel",
          "model_module_version": "1.5.0",
          "state": {
            "_dom_classes": [],
            "_model_module": "@jupyter-widgets/controls",
            "_model_module_version": "1.5.0",
            "_model_name": "HTMLModel",
            "_view_count": null,
            "_view_module": "@jupyter-widgets/controls",
            "_view_module_version": "1.5.0",
            "_view_name": "HTMLView",
            "description": "",
            "description_tooltip": null,
            "layout": "IPY_MODEL_9125f5606839409886b4d317c5c82db7",
            "placeholder": "​",
            "style": "IPY_MODEL_a22a81b128d846e18a0b667e316e5419",
            "value": "Downloading (…)lve/main/config.json: 100%"
          }
        },
        "f801ce2696cc4cd9aa5aac2b6bf3ff1b": {
          "model_module": "@jupyter-widgets/controls",
          "model_name": "FloatProgressModel",
          "model_module_version": "1.5.0",
          "state": {
            "_dom_classes": [],
            "_model_module": "@jupyter-widgets/controls",
            "_model_module_version": "1.5.0",
            "_model_name": "FloatProgressModel",
            "_view_count": null,
            "_view_module": "@jupyter-widgets/controls",
            "_view_module_version": "1.5.0",
            "_view_name": "ProgressView",
            "bar_style": "success",
            "description": "",
            "description_tooltip": null,
            "layout": "IPY_MODEL_d1558578528049f58e20a126d959199a",
            "max": 483,
            "min": 0,
            "orientation": "horizontal",
            "style": "IPY_MODEL_fe5ba357a07b4676bf2830cd23161b77",
            "value": 483
          }
        },
        "74d08b6a864647a1a6e083ec8e2e714a": {
          "model_module": "@jupyter-widgets/controls",
          "model_name": "HTMLModel",
          "model_module_version": "1.5.0",
          "state": {
            "_dom_classes": [],
            "_model_module": "@jupyter-widgets/controls",
            "_model_module_version": "1.5.0",
            "_model_name": "HTMLModel",
            "_view_count": null,
            "_view_module": "@jupyter-widgets/controls",
            "_view_module_version": "1.5.0",
            "_view_name": "HTMLView",
            "description": "",
            "description_tooltip": null,
            "layout": "IPY_MODEL_99cca27760644c57a2bec8aaa5421ad0",
            "placeholder": "​",
            "style": "IPY_MODEL_37ed8f252b9e4b99a6902218c3e30a68",
            "value": " 483/483 [00:00&lt;00:00, 29.7kB/s]"
          }
        },
        "c11c1b2475d64c01914d5fceb42c7c8c": {
          "model_module": "@jupyter-widgets/base",
          "model_name": "LayoutModel",
          "model_module_version": "1.2.0",
          "state": {
            "_model_module": "@jupyter-widgets/base",
            "_model_module_version": "1.2.0",
            "_model_name": "LayoutModel",
            "_view_count": null,
            "_view_module": "@jupyter-widgets/base",
            "_view_module_version": "1.2.0",
            "_view_name": "LayoutView",
            "align_content": null,
            "align_items": null,
            "align_self": null,
            "border": null,
            "bottom": null,
            "display": null,
            "flex": null,
            "flex_flow": null,
            "grid_area": null,
            "grid_auto_columns": null,
            "grid_auto_flow": null,
            "grid_auto_rows": null,
            "grid_column": null,
            "grid_gap": null,
            "grid_row": null,
            "grid_template_areas": null,
            "grid_template_columns": null,
            "grid_template_rows": null,
            "height": null,
            "justify_content": null,
            "justify_items": null,
            "left": null,
            "margin": null,
            "max_height": null,
            "max_width": null,
            "min_height": null,
            "min_width": null,
            "object_fit": null,
            "object_position": null,
            "order": null,
            "overflow": null,
            "overflow_x": null,
            "overflow_y": null,
            "padding": null,
            "right": null,
            "top": null,
            "visibility": null,
            "width": null
          }
        },
        "9125f5606839409886b4d317c5c82db7": {
          "model_module": "@jupyter-widgets/base",
          "model_name": "LayoutModel",
          "model_module_version": "1.2.0",
          "state": {
            "_model_module": "@jupyter-widgets/base",
            "_model_module_version": "1.2.0",
            "_model_name": "LayoutModel",
            "_view_count": null,
            "_view_module": "@jupyter-widgets/base",
            "_view_module_version": "1.2.0",
            "_view_name": "LayoutView",
            "align_content": null,
            "align_items": null,
            "align_self": null,
            "border": null,
            "bottom": null,
            "display": null,
            "flex": null,
            "flex_flow": null,
            "grid_area": null,
            "grid_auto_columns": null,
            "grid_auto_flow": null,
            "grid_auto_rows": null,
            "grid_column": null,
            "grid_gap": null,
            "grid_row": null,
            "grid_template_areas": null,
            "grid_template_columns": null,
            "grid_template_rows": null,
            "height": null,
            "justify_content": null,
            "justify_items": null,
            "left": null,
            "margin": null,
            "max_height": null,
            "max_width": null,
            "min_height": null,
            "min_width": null,
            "object_fit": null,
            "object_position": null,
            "order": null,
            "overflow": null,
            "overflow_x": null,
            "overflow_y": null,
            "padding": null,
            "right": null,
            "top": null,
            "visibility": null,
            "width": null
          }
        },
        "a22a81b128d846e18a0b667e316e5419": {
          "model_module": "@jupyter-widgets/controls",
          "model_name": "DescriptionStyleModel",
          "model_module_version": "1.5.0",
          "state": {
            "_model_module": "@jupyter-widgets/controls",
            "_model_module_version": "1.5.0",
            "_model_name": "DescriptionStyleModel",
            "_view_count": null,
            "_view_module": "@jupyter-widgets/base",
            "_view_module_version": "1.2.0",
            "_view_name": "StyleView",
            "description_width": ""
          }
        },
        "d1558578528049f58e20a126d959199a": {
          "model_module": "@jupyter-widgets/base",
          "model_name": "LayoutModel",
          "model_module_version": "1.2.0",
          "state": {
            "_model_module": "@jupyter-widgets/base",
            "_model_module_version": "1.2.0",
            "_model_name": "LayoutModel",
            "_view_count": null,
            "_view_module": "@jupyter-widgets/base",
            "_view_module_version": "1.2.0",
            "_view_name": "LayoutView",
            "align_content": null,
            "align_items": null,
            "align_self": null,
            "border": null,
            "bottom": null,
            "display": null,
            "flex": null,
            "flex_flow": null,
            "grid_area": null,
            "grid_auto_columns": null,
            "grid_auto_flow": null,
            "grid_auto_rows": null,
            "grid_column": null,
            "grid_gap": null,
            "grid_row": null,
            "grid_template_areas": null,
            "grid_template_columns": null,
            "grid_template_rows": null,
            "height": null,
            "justify_content": null,
            "justify_items": null,
            "left": null,
            "margin": null,
            "max_height": null,
            "max_width": null,
            "min_height": null,
            "min_width": null,
            "object_fit": null,
            "object_position": null,
            "order": null,
            "overflow": null,
            "overflow_x": null,
            "overflow_y": null,
            "padding": null,
            "right": null,
            "top": null,
            "visibility": null,
            "width": null
          }
        },
        "fe5ba357a07b4676bf2830cd23161b77": {
          "model_module": "@jupyter-widgets/controls",
          "model_name": "ProgressStyleModel",
          "model_module_version": "1.5.0",
          "state": {
            "_model_module": "@jupyter-widgets/controls",
            "_model_module_version": "1.5.0",
            "_model_name": "ProgressStyleModel",
            "_view_count": null,
            "_view_module": "@jupyter-widgets/base",
            "_view_module_version": "1.2.0",
            "_view_name": "StyleView",
            "bar_color": null,
            "description_width": ""
          }
        },
        "99cca27760644c57a2bec8aaa5421ad0": {
          "model_module": "@jupyter-widgets/base",
          "model_name": "LayoutModel",
          "model_module_version": "1.2.0",
          "state": {
            "_model_module": "@jupyter-widgets/base",
            "_model_module_version": "1.2.0",
            "_model_name": "LayoutModel",
            "_view_count": null,
            "_view_module": "@jupyter-widgets/base",
            "_view_module_version": "1.2.0",
            "_view_name": "LayoutView",
            "align_content": null,
            "align_items": null,
            "align_self": null,
            "border": null,
            "bottom": null,
            "display": null,
            "flex": null,
            "flex_flow": null,
            "grid_area": null,
            "grid_auto_columns": null,
            "grid_auto_flow": null,
            "grid_auto_rows": null,
            "grid_column": null,
            "grid_gap": null,
            "grid_row": null,
            "grid_template_areas": null,
            "grid_template_columns": null,
            "grid_template_rows": null,
            "height": null,
            "justify_content": null,
            "justify_items": null,
            "left": null,
            "margin": null,
            "max_height": null,
            "max_width": null,
            "min_height": null,
            "min_width": null,
            "object_fit": null,
            "object_position": null,
            "order": null,
            "overflow": null,
            "overflow_x": null,
            "overflow_y": null,
            "padding": null,
            "right": null,
            "top": null,
            "visibility": null,
            "width": null
          }
        },
        "37ed8f252b9e4b99a6902218c3e30a68": {
          "model_module": "@jupyter-widgets/controls",
          "model_name": "DescriptionStyleModel",
          "model_module_version": "1.5.0",
          "state": {
            "_model_module": "@jupyter-widgets/controls",
            "_model_module_version": "1.5.0",
            "_model_name": "DescriptionStyleModel",
            "_view_count": null,
            "_view_module": "@jupyter-widgets/base",
            "_view_module_version": "1.2.0",
            "_view_name": "StyleView",
            "description_width": ""
          }
        },
        "e44c49a16f7544ae99f76aa4e2803839": {
          "model_module": "@jupyter-widgets/controls",
          "model_name": "HBoxModel",
          "model_module_version": "1.5.0",
          "state": {
            "_dom_classes": [],
            "_model_module": "@jupyter-widgets/controls",
            "_model_module_version": "1.5.0",
            "_model_name": "HBoxModel",
            "_view_count": null,
            "_view_module": "@jupyter-widgets/controls",
            "_view_module_version": "1.5.0",
            "_view_name": "HBoxView",
            "box_style": "",
            "children": [
              "IPY_MODEL_eb7e228e74f64b7b81f976df1323602e",
              "IPY_MODEL_065c9022bcf04b0e9c0946e6407b93e8",
              "IPY_MODEL_8f82afeb730a425693bed1dbc273dfeb"
            ],
            "layout": "IPY_MODEL_4ca6d30fd0064aeeb81b154e11e50863"
          }
        },
        "eb7e228e74f64b7b81f976df1323602e": {
          "model_module": "@jupyter-widgets/controls",
          "model_name": "HTMLModel",
          "model_module_version": "1.5.0",
          "state": {
            "_dom_classes": [],
            "_model_module": "@jupyter-widgets/controls",
            "_model_module_version": "1.5.0",
            "_model_name": "HTMLModel",
            "_view_count": null,
            "_view_module": "@jupyter-widgets/controls",
            "_view_module_version": "1.5.0",
            "_view_name": "HTMLView",
            "description": "",
            "description_tooltip": null,
            "layout": "IPY_MODEL_fb5467b0285d4e9ca412dedf3ac3d9b0",
            "placeholder": "​",
            "style": "IPY_MODEL_360b3b5357564eee940ff81dbd2d1814",
            "value": "Downloading model.safetensors: 100%"
          }
        },
        "065c9022bcf04b0e9c0946e6407b93e8": {
          "model_module": "@jupyter-widgets/controls",
          "model_name": "FloatProgressModel",
          "model_module_version": "1.5.0",
          "state": {
            "_dom_classes": [],
            "_model_module": "@jupyter-widgets/controls",
            "_model_module_version": "1.5.0",
            "_model_name": "FloatProgressModel",
            "_view_count": null,
            "_view_module": "@jupyter-widgets/controls",
            "_view_module_version": "1.5.0",
            "_view_name": "ProgressView",
            "bar_style": "success",
            "description": "",
            "description_tooltip": null,
            "layout": "IPY_MODEL_758292d20cb44cecb25d7327a60e4ae6",
            "max": 267954768,
            "min": 0,
            "orientation": "horizontal",
            "style": "IPY_MODEL_519f7b21f74c4c7480e4ff7e8e9096de",
            "value": 267954768
          }
        },
        "8f82afeb730a425693bed1dbc273dfeb": {
          "model_module": "@jupyter-widgets/controls",
          "model_name": "HTMLModel",
          "model_module_version": "1.5.0",
          "state": {
            "_dom_classes": [],
            "_model_module": "@jupyter-widgets/controls",
            "_model_module_version": "1.5.0",
            "_model_name": "HTMLModel",
            "_view_count": null,
            "_view_module": "@jupyter-widgets/controls",
            "_view_module_version": "1.5.0",
            "_view_name": "HTMLView",
            "description": "",
            "description_tooltip": null,
            "layout": "IPY_MODEL_6eb4eb2808b348a68001f4bdd6431e7a",
            "placeholder": "​",
            "style": "IPY_MODEL_8883c035c60a4a03a2e953be06ff890a",
            "value": " 268M/268M [00:00&lt;00:00, 328MB/s]"
          }
        },
        "4ca6d30fd0064aeeb81b154e11e50863": {
          "model_module": "@jupyter-widgets/base",
          "model_name": "LayoutModel",
          "model_module_version": "1.2.0",
          "state": {
            "_model_module": "@jupyter-widgets/base",
            "_model_module_version": "1.2.0",
            "_model_name": "LayoutModel",
            "_view_count": null,
            "_view_module": "@jupyter-widgets/base",
            "_view_module_version": "1.2.0",
            "_view_name": "LayoutView",
            "align_content": null,
            "align_items": null,
            "align_self": null,
            "border": null,
            "bottom": null,
            "display": null,
            "flex": null,
            "flex_flow": null,
            "grid_area": null,
            "grid_auto_columns": null,
            "grid_auto_flow": null,
            "grid_auto_rows": null,
            "grid_column": null,
            "grid_gap": null,
            "grid_row": null,
            "grid_template_areas": null,
            "grid_template_columns": null,
            "grid_template_rows": null,
            "height": null,
            "justify_content": null,
            "justify_items": null,
            "left": null,
            "margin": null,
            "max_height": null,
            "max_width": null,
            "min_height": null,
            "min_width": null,
            "object_fit": null,
            "object_position": null,
            "order": null,
            "overflow": null,
            "overflow_x": null,
            "overflow_y": null,
            "padding": null,
            "right": null,
            "top": null,
            "visibility": null,
            "width": null
          }
        },
        "fb5467b0285d4e9ca412dedf3ac3d9b0": {
          "model_module": "@jupyter-widgets/base",
          "model_name": "LayoutModel",
          "model_module_version": "1.2.0",
          "state": {
            "_model_module": "@jupyter-widgets/base",
            "_model_module_version": "1.2.0",
            "_model_name": "LayoutModel",
            "_view_count": null,
            "_view_module": "@jupyter-widgets/base",
            "_view_module_version": "1.2.0",
            "_view_name": "LayoutView",
            "align_content": null,
            "align_items": null,
            "align_self": null,
            "border": null,
            "bottom": null,
            "display": null,
            "flex": null,
            "flex_flow": null,
            "grid_area": null,
            "grid_auto_columns": null,
            "grid_auto_flow": null,
            "grid_auto_rows": null,
            "grid_column": null,
            "grid_gap": null,
            "grid_row": null,
            "grid_template_areas": null,
            "grid_template_columns": null,
            "grid_template_rows": null,
            "height": null,
            "justify_content": null,
            "justify_items": null,
            "left": null,
            "margin": null,
            "max_height": null,
            "max_width": null,
            "min_height": null,
            "min_width": null,
            "object_fit": null,
            "object_position": null,
            "order": null,
            "overflow": null,
            "overflow_x": null,
            "overflow_y": null,
            "padding": null,
            "right": null,
            "top": null,
            "visibility": null,
            "width": null
          }
        },
        "360b3b5357564eee940ff81dbd2d1814": {
          "model_module": "@jupyter-widgets/controls",
          "model_name": "DescriptionStyleModel",
          "model_module_version": "1.5.0",
          "state": {
            "_model_module": "@jupyter-widgets/controls",
            "_model_module_version": "1.5.0",
            "_model_name": "DescriptionStyleModel",
            "_view_count": null,
            "_view_module": "@jupyter-widgets/base",
            "_view_module_version": "1.2.0",
            "_view_name": "StyleView",
            "description_width": ""
          }
        },
        "758292d20cb44cecb25d7327a60e4ae6": {
          "model_module": "@jupyter-widgets/base",
          "model_name": "LayoutModel",
          "model_module_version": "1.2.0",
          "state": {
            "_model_module": "@jupyter-widgets/base",
            "_model_module_version": "1.2.0",
            "_model_name": "LayoutModel",
            "_view_count": null,
            "_view_module": "@jupyter-widgets/base",
            "_view_module_version": "1.2.0",
            "_view_name": "LayoutView",
            "align_content": null,
            "align_items": null,
            "align_self": null,
            "border": null,
            "bottom": null,
            "display": null,
            "flex": null,
            "flex_flow": null,
            "grid_area": null,
            "grid_auto_columns": null,
            "grid_auto_flow": null,
            "grid_auto_rows": null,
            "grid_column": null,
            "grid_gap": null,
            "grid_row": null,
            "grid_template_areas": null,
            "grid_template_columns": null,
            "grid_template_rows": null,
            "height": null,
            "justify_content": null,
            "justify_items": null,
            "left": null,
            "margin": null,
            "max_height": null,
            "max_width": null,
            "min_height": null,
            "min_width": null,
            "object_fit": null,
            "object_position": null,
            "order": null,
            "overflow": null,
            "overflow_x": null,
            "overflow_y": null,
            "padding": null,
            "right": null,
            "top": null,
            "visibility": null,
            "width": null
          }
        },
        "519f7b21f74c4c7480e4ff7e8e9096de": {
          "model_module": "@jupyter-widgets/controls",
          "model_name": "ProgressStyleModel",
          "model_module_version": "1.5.0",
          "state": {
            "_model_module": "@jupyter-widgets/controls",
            "_model_module_version": "1.5.0",
            "_model_name": "ProgressStyleModel",
            "_view_count": null,
            "_view_module": "@jupyter-widgets/base",
            "_view_module_version": "1.2.0",
            "_view_name": "StyleView",
            "bar_color": null,
            "description_width": ""
          }
        },
        "6eb4eb2808b348a68001f4bdd6431e7a": {
          "model_module": "@jupyter-widgets/base",
          "model_name": "LayoutModel",
          "model_module_version": "1.2.0",
          "state": {
            "_model_module": "@jupyter-widgets/base",
            "_model_module_version": "1.2.0",
            "_model_name": "LayoutModel",
            "_view_count": null,
            "_view_module": "@jupyter-widgets/base",
            "_view_module_version": "1.2.0",
            "_view_name": "LayoutView",
            "align_content": null,
            "align_items": null,
            "align_self": null,
            "border": null,
            "bottom": null,
            "display": null,
            "flex": null,
            "flex_flow": null,
            "grid_area": null,
            "grid_auto_columns": null,
            "grid_auto_flow": null,
            "grid_auto_rows": null,
            "grid_column": null,
            "grid_gap": null,
            "grid_row": null,
            "grid_template_areas": null,
            "grid_template_columns": null,
            "grid_template_rows": null,
            "height": null,
            "justify_content": null,
            "justify_items": null,
            "left": null,
            "margin": null,
            "max_height": null,
            "max_width": null,
            "min_height": null,
            "min_width": null,
            "object_fit": null,
            "object_position": null,
            "order": null,
            "overflow": null,
            "overflow_x": null,
            "overflow_y": null,
            "padding": null,
            "right": null,
            "top": null,
            "visibility": null,
            "width": null
          }
        },
        "8883c035c60a4a03a2e953be06ff890a": {
          "model_module": "@jupyter-widgets/controls",
          "model_name": "DescriptionStyleModel",
          "model_module_version": "1.5.0",
          "state": {
            "_model_module": "@jupyter-widgets/controls",
            "_model_module_version": "1.5.0",
            "_model_name": "DescriptionStyleModel",
            "_view_count": null,
            "_view_module": "@jupyter-widgets/base",
            "_view_module_version": "1.2.0",
            "_view_name": "StyleView",
            "description_width": ""
          }
        }
      }
    }
  },
  "nbformat": 4,
  "nbformat_minor": 0
}